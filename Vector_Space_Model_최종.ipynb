{
 "cells": [
  {
   "cell_type": "markdown",
   "metadata": {},
   "source": [
    "# 벡터 스페이스 모델\n",
    "\n",
    "## 각 문장의 simiarity 계산  (cosine similarity 이용) "
   ]
  },
  {
   "cell_type": "markdown",
   "metadata": {},
   "source": [
    "dataframe을 만들기 위해서 pandas 이용하고                                                                                                 \n",
    "cosine similarity 계산에 사용할 내적(dot)을 numpy 이용했습니다.\n",
    "\n",
    "그리고 분석 할 문장을 선언해주고, split()을 통해서 띄어쓰기마다 나누어 리스트로 저장하고                                                   \n",
    "저장 된 리스트는 sorted()를 이용해서 정렬했습니다."
   ]
  },
  {
   "cell_type": "code",
   "execution_count": null,
   "metadata": {},
   "outputs": [],
   "source": [
    "import pandas as pd\n",
    "import numpy as np\n",
    "\n",
    "\n",
    "doc1 = 'new home sales top forecasts'.split()\n",
    "doc2 = 'home sales rise in july'.split()\n",
    "doc3 = 'increase in home sales in july'.split()\n",
    "doc4 ='new home sales rise in November'.split()\n",
    "\n",
    "# print('\\n',sorted(doc1),'\\n', sorted(doc2),'\\n',sorted(doc3),'\\n',sorted(doc4),'\\n')\n"
   ]
  },
  {
   "cell_type": "markdown",
   "metadata": {},
   "source": [
    "그리고 doc1 ~ doc4까지 element들을                                                                                                \n",
    "중복되지 않게 doc에 추가 하기위해서                                                                                     \n",
    "for문 - if문을 통해 doc에 동일한 element가 없으면                                                                                     \n",
    "element를 추가하도록 not in을 사용했습니다.                                                                                    \n",
    "\n",
    "그런데 여기서 한가지 문제점이, doc1, doc2의 len는 5이고,                                                                \n",
    "doc3, doc4의 len은 6이였습니다.                                                                                    \n",
    "\n",
    "이로인해 for문의 zip에서 doc3, doc4의 맨 마지막 element는 if문을 사용하지 못하게 되었습니다.                                          \n",
    "따라서 새로 맨 마지막 element만 확이하는 조건문을 선언해서 doc에 추가했습니다."
   ]
  },
  {
   "cell_type": "code",
   "execution_count": null,
   "metadata": {},
   "outputs": [],
   "source": [
    "doc = []\n",
    "for i,j,jj,jji in zip(doc1,doc2,doc3,doc4) :\n",
    "    \n",
    "    if i not in doc:\n",
    "        doc.append(i)\n",
    "    if j not in doc :\n",
    "        doc.append(j)\n",
    "    if jj not in  doc :\n",
    "        doc.append(jj)\n",
    "    if jji not in  doc :\n",
    "        doc.append(jji)\n",
    "\n",
    "        \n",
    "if doc3[-1] not in doc:\n",
    "    doc.append(doc3[-1])    \n",
    "if doc4[-1] not in doc:\n",
    "    doc.append(doc4[-1])\n",
    "\n",
    "doc = sorted(doc)\n",
    "\n"
   ]
  },
  {
   "cell_type": "markdown",
   "metadata": {},
   "source": [
    "그리고 이제 정렬한 doc(doc1 ~ 4 전체 중복되지 않은 벡터(단어) 리스트)과                                                                \n",
    "doc1 ~ doc4 벡터(단어)를 비교해서 각 벡터의 차원을 구했습니다.                                                                \n",
    "\n",
    "하지만 이때, 벡터의 차원을 하나씩 비교해가며 생성해내는 로직을 생각하지 못하여                                           \n",
    "직접 제가 비교하여 선언했습니다.                                                               \n"
   ]
  },
  {
   "cell_type": "code",
   "execution_count": null,
   "metadata": {},
   "outputs": [],
   "source": [
    "# doc_1 = [0, 1, 1, 0, 0, 0, 1, 0, 1, 1] \n",
    "# doc_2 = [0, 0, 1, 1, 0, 1, 0, 1, 1, 0] \n",
    "# doc_3 = [0, 0, 1, 2, 1, 1, 0, 0, 1, 0] \n",
    "# doc_4 = [1, 0, 1, 1, 0, 0, 1, 1, 1, 0]"
   ]
  },
  {
   "cell_type": "markdown",
   "metadata": {},
   "source": [
    "고민끝에 doc의 요소를 하나씩 탐색해서 각 문서의 요소에 있는지 없는지 판단하는 조건문을 만들었습니다.                     \n",
    "\n",
    "만약 doc의 i번째 요소가 문서내에 있으면, 그 갯수에 따라 doc_n (n = 1,2,3,4)의 i번째에 갯수를 추가하고                     \n",
    "요소가 없다면, 0을 추가했습니다.                                                               \n",
    "\n",
    "그리고 이를 one line으로 정리했습니다.                     "
   ]
  },
  {
   "cell_type": "code",
   "execution_count": null,
   "metadata": {},
   "outputs": [],
   "source": [
    "doc_1,doc_2, doc_3, doc_4 = [] ,[] ,[] ,[] \n",
    "\n",
    "      \n",
    "for i in range(0,len(doc)):\n",
    "\n",
    "    doc_1.append(doc1.count(doc[i])) if doc[i] in doc1 else doc_1.append(int(0))\n",
    "    \n",
    "    doc_2.append(doc2.count(doc[i])) if doc[i] in doc2 else doc_2.append(int(0))\n",
    "\n",
    "    doc_3.append(doc3.count(doc[i])) if doc[i] in doc3 else doc_3.append(int(0))\n",
    "    \n",
    "    doc_4.append(doc4.count(doc[i])) if doc[i] in doc4 else doc_4.append(int(0))\n",
    "        \n",
    "\n",
    "        \n",
    "# print( doc_1,'\\n',doc_2,'\\n',doc_3,'\\n',doc_4)\n",
    "\n",
    "        "
   ]
  },
  {
   "cell_type": "markdown",
   "metadata": {},
   "source": [
    "이제 생성된 doc, doc_1 ~ doc_4 (벡터 차원) :matrix value 를 통해 dataframe을 생성했습니다.\n",
    "\n",
    "각 행은 doc1 doc2 doc3 doc4의 vector값으로,                                                               \n",
    "열의 index는 doc의 요소(벡터)로 선언하였습니다.\n"
   ]
  },
  {
   "cell_type": "code",
   "execution_count": null,
   "metadata": {},
   "outputs": [],
   "source": [
    "df=pd.DataFrame({\"doc1\":doc_1, \n",
    "                 \"doc2\":doc_2,\n",
    "                 \"doc3\":doc_3,\n",
    "                 \"doc4\":doc_4}) \n",
    "df.index= doc\n",
    "df"
   ]
  },
  {
   "cell_type": "markdown",
   "metadata": {},
   "source": [
    "이제 consine simiarity => similarity(Doc1, Doc2) = (Doc1과 Doc2의 내적 )/ (Doc1의 크기 * Doc2의 크기)\n",
    "를 계산하기 위해서                                                                 \n",
    "numpy를 통해 각 문서의 내적을 계산하였고 (4C2 = 6 가지 경우)\n",
    "\n",
    "벡터의 크기를 구하기 위해 doc_n_sqr (n = 1,2,3,4)를 선언하고                         \n",
    "각 문서내의 벡터 요소들의 제곱을 하였습니다.                                              \n",
    "이를 통해 각 문서의 벡터 크기를 구하였습니다. \n"
   ]
  },
  {
   "cell_type": "code",
   "execution_count": null,
   "metadata": {},
   "outputs": [],
   "source": [
    "# 각 리스트의 크기(벡터의 크기, 다시 말해서 절댓값^2 )  1부터 4까지 \n",
    "doc_1_sqr ,doc_2_sqr ,doc_3_sqr ,doc_4_sqr = 0,0,0,0\n",
    "for i,j,k,l in zip(doc_1,doc_2,doc_3, doc_4) :\n",
    "    doc_1_sqr += i**2 \n",
    "    doc_2_sqr += j**2 \n",
    "    doc_3_sqr += k**2 \n",
    "    doc_4_sqr += l**2 \n",
    "    \n",
    "    \n",
    "sim_d1_d2 = np.dot(doc_1,doc_2)/(doc_1_sqr*doc_2_sqr) \n",
    "sim_d1_d3 = np.dot(doc_1,doc_3)/(doc_1_sqr*doc_3_sqr) \n",
    "sim_d1_d4 = np.dot(doc_1,doc_4)/(doc_1_sqr*doc_4_sqr) \n",
    "\n",
    "sim_d2_d3 = np.dot(doc_2,doc_3)/(doc_2_sqr*doc_3_sqr) \n",
    "sim_d2_d4 = np.dot(doc_2,doc_4)/(doc_2_sqr*doc_4_sqr) \n",
    "\n",
    "sim_d3_d4 = np.dot(doc_3,doc_4)/(doc_3_sqr*doc_4_sqr) \n",
    "\n",
    "\n",
    "\n",
    "similiarty = [sim_d1_d2 , sim_d1_d3 , sim_d1_d4, sim_d2_d3, sim_d2_d4, sim_d3_d4]\n",
    "\n",
    "# print(similiarty) \n",
    "print(sorted(similiarty, reverse= True))\n",
    "\n"
   ]
  },
  {
   "cell_type": "markdown",
   "metadata": {},
   "source": [
    "# for문 이용해서 코드 짧게"
   ]
  },
  {
   "cell_type": "markdown",
   "metadata": {},
   "source": [
    "하나씩 단순 반복을 \n",
    "어떻게하면 간단하게 표현할 수 있을까 고민하였고,\n",
    "\n",
    "중첩 for문을 이용했습니다.\n",
    "상위 for문의 i는 range(0,3) -> 내적에 있어 앞의 문서는 고정시킨 후,                                                       \n",
    "하위 for문의 j로 range(i+1 , 4)까지 범위를 지정한 후 앞의 문서의 바로 뒤 문서부터 doc4까지 반복하게 지정했습니다.\n",
    "\n",
    "이때, 각 쌍의 이름을 지정하기 위해서 name을 선언해서                                                            \n",
    "위의 로직과 마찬가지로  i와 j의 변화를 통해 각 similarity쌍의 이름을나타내도록 설정했습니다.                                                     \n",
    "\n",
    "이를 통해 (doc1,doc2), (doc1,doc3), (doc1,doc4), (doc2,doc3), (doc2,doc4), (doc3,doc4) 쌍의 순서로                                         \n",
    "계산된 conisne similarity를                                                                                                           \n",
    "(similarity_쌍 , 값)의 tuple 형태로 선언했습니다.                                                                  \n",
    "\n",
    "그리고 이 선언된 tuple의 두번째 원소(similarity 값)를 기준으로                                                        \n",
    "내림차순 정렬을 위해 itemgetter을 사용했습니다."
   ]
  },
  {
   "cell_type": "code",
   "execution_count": null,
   "metadata": {},
   "outputs": [],
   "source": [
    "doc_n = [doc_1,doc_2,doc_3, doc_4]\n",
    "\n",
    "doc_1_sqr ,doc_2_sqr ,doc_3_sqr ,doc_4_sqr = 0,0,0,0\n",
    "for i,j,k,l in zip(doc_1,doc_2,doc_3, doc_4) :\n",
    "    doc_1_sqr += i**2 \n",
    "    doc_2_sqr += j**2 \n",
    "    doc_3_sqr += k**2 \n",
    "    doc_4_sqr += l**2 \n",
    "\n",
    "doc_n_sqr = [doc_1_sqr ,doc_2_sqr ,doc_3_sqr ,doc_4_sqr]\n",
    "final_result = []\n",
    "\n",
    "\n",
    "\n",
    "\n",
    "for i in range(0,3):\n",
    "    for j in range(i+1,4):\n",
    "        result = round(np.dot(doc_n[i],doc_n[j])/(doc_n_sqr[i]*doc_n_sqr[j]),4)\n",
    "        name = 'sim_d'+str(i+1)+'_d'+str(j+1)\n",
    "        tup = (name, result)\n",
    "        final_result.append(tup)\n",
    "\n",
    "\n",
    "from operator import itemgetter\n",
    "\n",
    "\n",
    "final_result.sort(key = itemgetter(1),reverse=True)\n",
    "print(final_result)"
   ]
  }
 ],
 "metadata": {
  "kernelspec": {
   "display_name": "Python 3",
   "language": "python",
   "name": "python3"
  },
  "language_info": {
   "codemirror_mode": {
    "name": "ipython",
    "version": 3
   },
   "file_extension": ".py",
   "mimetype": "text/x-python",
   "name": "python",
   "nbconvert_exporter": "python",
   "pygments_lexer": "ipython3",
   "version": "3.7.6"
  }
 },
 "nbformat": 4,
 "nbformat_minor": 4
}
