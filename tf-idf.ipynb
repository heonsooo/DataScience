{
 "cells": [
  {
   "cell_type": "markdown",
   "metadata": {},
   "source": [
    "# 벡터 스페이스 모델\n",
    "## 각 문서의 tf-idf에 기반한 벡터로 표현 \n",
    "\n",
    "dataframe을 만들기 위해서 pandas를 이용였습니다. \n",
    "\n",
    "그리고 분석 할 문장을 선언해주고, split()을 통해서 띄어쓰기마다 나누어 리스트로 저장하고                        \n",
    "저장 된 리스트는 sorted()를 이용해서 정렬했습니다.                                                                        \n",
    "\n",
    "제가 2번를 먼저 풀고, 이 1번 문제를 풀었습니다.                                                                        \n",
    "1번 문제를 풀며 코드를 최대한 간소화 시켜보고싶어서                                                                        \n",
    "if절을 한줄로 표시해 보았습니다!\n",
    "                        \n",
    "그리고 doc1,2,3,4의 term을 중복없이 담고있는 doc 리스트를 만들고, 알파벳 순으로 정렬했습니다.\n"
   ]
  },
  {
   "cell_type": "code",
   "execution_count": 10,
   "metadata": {},
   "outputs": [
    {
     "data": {
      "text/plain": [
       "['November',\n",
       " 'forecasts',\n",
       " 'home',\n",
       " 'in',\n",
       " 'increase',\n",
       " 'july',\n",
       " 'new',\n",
       " 'rise',\n",
       " 'sales',\n",
       " 'top']"
      ]
     },
     "execution_count": 10,
     "metadata": {},
     "output_type": "execute_result"
    }
   ],
   "source": [
    "import pandas as pd\n",
    "\n",
    "doc1 = 'new home sales top forecasts'.split()\n",
    "doc2 = 'home sales rise in july'.split()\n",
    "doc3 = 'increase in home sales in july'.split()\n",
    "doc4 ='new home sales rise in November'.split()\n",
    "\n",
    "doc = []\n",
    "for i,j,jj,jji in zip(doc1,doc2,doc3,doc4) :\n",
    "    if i not in doc: doc.append(i)\n",
    "    if j not in doc :doc.append(j)\n",
    "    if jj not in  doc :doc.append(jj)\n",
    "    if jji not in  doc :doc.append(jji)\n",
    "        \n",
    "        \n",
    "if doc3[-1] not in doc: doc.append(doc3[-1])    \n",
    "if doc4[-1] not in doc: doc.append(doc4[-1])\n",
    "    \n",
    "doc = sorted(doc)"
   ]
  },
  {
   "cell_type": "markdown",
   "metadata": {},
   "source": [
    "df_i를 구하기 위해서 \n",
    "doc1,2,3,4 전체 term으로 구성 된 doc_all(중복 포함)을 만들었습니다.\n",
    "\n",
    "그리고 전체 문서 doc(중복X)의 요소 term을 \n",
    "하나씩 뽑아 비교하며 count하여 각 term의 갯수를 세었고,\n",
    "\n",
    "doc리스트 순서에 맞도록  df_i에 갯수를 추가하였습니다. \n",
    "\n"
   ]
  },
  {
   "cell_type": "code",
   "execution_count": 7,
   "metadata": {},
   "outputs": [],
   "source": [
    "df_i = []\n",
    "doc_all = doc1+doc2+doc3+doc4\n",
    "\n",
    "for j in range(0,len(doc)):\n",
    "    df_i.append(doc_all.count(doc[j]))"
   ]
  },
  {
   "cell_type": "markdown",
   "metadata": {},
   "source": [
    "그리고 idf를 계산하기 위해서                                                                                       \n",
    "math를 호출해서 log계산함수를 사용했습니다.                                                                                      \n",
    "\n",
    "n : 전체 문서의 수 = doc(1,2,3,4)                                                                                       \n",
    "그리고 df_i에서 순서대로 하나씩 꺼내와서                                                                                       \n",
    "idf 계산값을 doc term순서에 맞게 append했습니다.\n"
   ]
  },
  {
   "cell_type": "code",
   "execution_count": 8,
   "metadata": {},
   "outputs": [],
   "source": [
    "    \n",
    "import math \n",
    "idf_i = []\n",
    "n = len(doc1)+len(doc2)+len(doc3)+len(doc4)\n",
    "\n",
    "for k in range(0,len(df_i)):\n",
    "    result = round(math.log10(n/df_i[k]),5)\n",
    "    idf_i.append(result)"
   ]
  },
  {
   "cell_type": "markdown",
   "metadata": {},
   "source": [
    "\n",
    "이렇게 만들어진                                                                                           \n",
    "doc , df_i, idf_i 를 통해                                                                                       \n",
    "tf-idf에 기반한 dataframe을 생성했습니다! "
   ]
  },
  {
   "cell_type": "code",
   "execution_count": 9,
   "metadata": {},
   "outputs": [
    {
     "data": {
      "text/html": [
       "<div>\n",
       "<style scoped>\n",
       "    .dataframe tbody tr th:only-of-type {\n",
       "        vertical-align: middle;\n",
       "    }\n",
       "\n",
       "    .dataframe tbody tr th {\n",
       "        vertical-align: top;\n",
       "    }\n",
       "\n",
       "    .dataframe thead th {\n",
       "        text-align: right;\n",
       "    }\n",
       "</style>\n",
       "<table border=\"1\" class=\"dataframe\">\n",
       "  <thead>\n",
       "    <tr style=\"text-align: right;\">\n",
       "      <th></th>\n",
       "      <th>df_i</th>\n",
       "      <th>idf_i</th>\n",
       "    </tr>\n",
       "  </thead>\n",
       "  <tbody>\n",
       "    <tr>\n",
       "      <th>November</th>\n",
       "      <td>1</td>\n",
       "      <td>1.34242</td>\n",
       "    </tr>\n",
       "    <tr>\n",
       "      <th>forecasts</th>\n",
       "      <td>1</td>\n",
       "      <td>1.34242</td>\n",
       "    </tr>\n",
       "    <tr>\n",
       "      <th>home</th>\n",
       "      <td>4</td>\n",
       "      <td>0.74036</td>\n",
       "    </tr>\n",
       "    <tr>\n",
       "      <th>in</th>\n",
       "      <td>4</td>\n",
       "      <td>0.74036</td>\n",
       "    </tr>\n",
       "    <tr>\n",
       "      <th>increase</th>\n",
       "      <td>1</td>\n",
       "      <td>1.34242</td>\n",
       "    </tr>\n",
       "    <tr>\n",
       "      <th>july</th>\n",
       "      <td>2</td>\n",
       "      <td>1.04139</td>\n",
       "    </tr>\n",
       "    <tr>\n",
       "      <th>new</th>\n",
       "      <td>2</td>\n",
       "      <td>1.04139</td>\n",
       "    </tr>\n",
       "    <tr>\n",
       "      <th>rise</th>\n",
       "      <td>2</td>\n",
       "      <td>1.04139</td>\n",
       "    </tr>\n",
       "    <tr>\n",
       "      <th>sales</th>\n",
       "      <td>4</td>\n",
       "      <td>0.74036</td>\n",
       "    </tr>\n",
       "    <tr>\n",
       "      <th>top</th>\n",
       "      <td>1</td>\n",
       "      <td>1.34242</td>\n",
       "    </tr>\n",
       "  </tbody>\n",
       "</table>\n",
       "</div>"
      ],
      "text/plain": [
       "           df_i    idf_i\n",
       "November      1  1.34242\n",
       "forecasts     1  1.34242\n",
       "home          4  0.74036\n",
       "in            4  0.74036\n",
       "increase      1  1.34242\n",
       "july          2  1.04139\n",
       "new           2  1.04139\n",
       "rise          2  1.04139\n",
       "sales         4  0.74036\n",
       "top           1  1.34242"
      ]
     },
     "execution_count": 9,
     "metadata": {},
     "output_type": "execute_result"
    }
   ],
   "source": [
    "dataframe = pd.DataFrame({\"df_i\":df_i, \n",
    "                 \"idf_i\":idf_i}) \n",
    "dataframe.index= doc\n",
    "\n",
    "dataframe"
   ]
  }
 ],
 "metadata": {
  "kernelspec": {
   "display_name": "Python 3",
   "language": "python",
   "name": "python3"
  },
  "language_info": {
   "codemirror_mode": {
    "name": "ipython",
    "version": 3
   },
   "file_extension": ".py",
   "mimetype": "text/x-python",
   "name": "python",
   "nbconvert_exporter": "python",
   "pygments_lexer": "ipython3",
   "version": "3.7.6"
  }
 },
 "nbformat": 4,
 "nbformat_minor": 4
}
