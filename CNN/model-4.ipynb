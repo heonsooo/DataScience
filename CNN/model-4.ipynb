{
 "cells": [
  {
   "cell_type": "code",
   "execution_count": 15,
   "metadata": {},
   "outputs": [
    {
     "name": "stdout",
     "output_type": "stream",
     "text": [
      "Found 36000 images belonging to 3 classes.\n",
      "Found 9000 images belonging to 3 classes.\n"
     ]
    }
   ],
   "source": [
    "import numpy as np\n",
    "from keras.models import Sequential\n",
    "from keras.layers import Dense\n",
    "from keras.layers import Flatten\n",
    "from keras.layers.convolutional import Conv2D\n",
    "from keras.layers.convolutional import MaxPooling2D\n",
    "from keras.preprocessing.image import ImageDataGenerator\n",
    "\n",
    "\n",
    "\n",
    "\n",
    "\n",
    "train_datagen = ImageDataGenerator(rescale=1./255)\n",
    "\n",
    "train_generator = train_datagen.flow_from_directory(\n",
    "        './images2/train',\n",
    "        target_size=(300,300),\n",
    "        batch_size=5,\n",
    "        class_mode='categorical')\n",
    "\n",
    "test_datagen = ImageDataGenerator(rescale=1./255)\n",
    "\n",
    "test_generator = test_datagen.flow_from_directory(\n",
    "        './images2/test',\n",
    "        target_size=(300,300),   \n",
    "        batch_size=2,\n",
    "        class_mode='categorical')"
   ]
  },
  {
   "cell_type": "code",
   "execution_count": 19,
   "metadata": {},
   "outputs": [
    {
     "name": "stdout",
     "output_type": "stream",
     "text": [
      "Epoch 1/10\n",
      "500/500 [==============================] - 86s 171ms/step - loss: 1.0623 - accuracy: 0.4836 - val_loss: 0.9902 - val_accuracy: 0.5000\n",
      "Epoch 2/10\n",
      "500/500 [==============================] - 93s 186ms/step - loss: 0.9108 - accuracy: 0.5876 - val_loss: 1.3640 - val_accuracy: 0.4000\n",
      "Epoch 3/10\n",
      "500/500 [==============================] - 94s 189ms/step - loss: 0.8246 - accuracy: 0.6132 - val_loss: 0.8009 - val_accuracy: 0.6000\n",
      "Epoch 4/10\n",
      "500/500 [==============================] - 102s 203ms/step - loss: 0.7473 - accuracy: 0.6652 - val_loss: 0.8205 - val_accuracy: 0.5000\n",
      "Epoch 5/10\n",
      "500/500 [==============================] - 101s 202ms/step - loss: 0.7138 - accuracy: 0.6808 - val_loss: 0.8183 - val_accuracy: 0.5500\n",
      "Epoch 6/10\n",
      "500/500 [==============================] - 98s 197ms/step - loss: 0.6709 - accuracy: 0.7140 - val_loss: 0.7780 - val_accuracy: 0.5500\n",
      "Epoch 7/10\n",
      "500/500 [==============================] - 97s 195ms/step - loss: 0.6018 - accuracy: 0.7480 - val_loss: 0.3374 - val_accuracy: 0.8500\n",
      "Epoch 8/10\n",
      "500/500 [==============================] - 95s 191ms/step - loss: 0.5880 - accuracy: 0.7572 - val_loss: 0.6944 - val_accuracy: 0.7500\n",
      "Epoch 9/10\n",
      "500/500 [==============================] - 98s 196ms/step - loss: 0.5592 - accuracy: 0.7744 - val_loss: 1.0603 - val_accuracy: 0.6500\n",
      "Epoch 10/10\n",
      "500/500 [==============================] - 100s 201ms/step - loss: 0.5728 - accuracy: 0.7628 - val_loss: 0.6632 - val_accuracy: 0.7500\n",
      "-- Evaluate --\n",
      "accuracy: 80.00%\n",
      "-- Predict --\n",
      "{'exterior': 0, 'food': 1, 'interior': 2}\n",
      "[[0.320 0.021 0.659]\n",
      " [0.019 0.979 0.002]\n",
      " [0.103 0.378 0.519]\n",
      " [0.005 0.984 0.011]\n",
      " [0.289 0.218 0.492]\n",
      " [0.033 0.932 0.035]\n",
      " [0.010 0.981 0.009]\n",
      " [0.008 0.960 0.032]\n",
      " [0.033 0.870 0.097]\n",
      " [0.094 0.551 0.355]]\n"
     ]
    }
   ],
   "source": [
    "model = Sequential()\n",
    "model.add(Conv2D(32, kernel_size=(3, 3),\n",
    "                 activation='relu',\n",
    "                 input_shape=(300,300,3)))\n",
    "model.add(MaxPooling2D(pool_size=(2, 2)))\n",
    "model.add(Conv2D(16, (3, 3), activation='relu'))\n",
    "model.add(MaxPooling2D(pool_size=(2, 2)))\n",
    "model.add(Flatten())\n",
    "model.add(Dense(32, activation='relu'))\n",
    "model.add(Dense(32, activation='relu'))\n",
    "model.add(Dense(3, activation='softmax'))\n",
    "\n",
    "# 3. 모델 학습과정 설정하기\n",
    "model.compile(loss='categorical_crossentropy', optimizer='adam', metrics=['accuracy'])\n",
    "\n",
    "# 4. 모델 학습시키기\n",
    "model.fit_generator(\n",
    "        train_generator,\n",
    "        steps_per_epoch=500,\n",
    "        epochs=10,\n",
    "        validation_data=test_generator,\n",
    "        validation_steps=10)\n",
    "\n",
    "model.save('moder-4')\n",
    "# 5. 모델 평가하기\n",
    "print(\"-- Evaluate --\")\n",
    "scores = model.evaluate_generator(test_generator, steps=5)\n",
    "print(\"%s: %.2f%%\" %(model.metrics_names[1], scores[1]*100))\n",
    "\n",
    "# 6. 모델 사용하기\n",
    "print(\"-- Predict --\")\n",
    "output = model.predict_generator(test_generator, steps=5)\n",
    "np.set_printoptions(formatter={'float': lambda x: \"{0:0.3f}\".format(x)})\n",
    "print(test_generator.class_indices)\n",
    "print(output)"
   ]
  },
  {
   "cell_type": "code",
   "execution_count": 23,
   "metadata": {},
   "outputs": [
    {
     "name": "stdout",
     "output_type": "stream",
     "text": [
      "Model: \"sequential_3\"\n",
      "_________________________________________________________________\n",
      "Layer (type)                 Output Shape              Param #   \n",
      "=================================================================\n",
      "conv2d_6 (Conv2D)            (None, 298, 298, 32)      896       \n",
      "_________________________________________________________________\n",
      "max_pooling2d_3 (MaxPooling2 (None, 149, 149, 32)      0         \n",
      "_________________________________________________________________\n",
      "conv2d_7 (Conv2D)            (None, 147, 147, 16)      4624      \n",
      "_________________________________________________________________\n",
      "max_pooling2d_4 (MaxPooling2 (None, 73, 73, 16)        0         \n",
      "_________________________________________________________________\n",
      "flatten_3 (Flatten)          (None, 85264)             0         \n",
      "_________________________________________________________________\n",
      "dense_6 (Dense)              (None, 32)                2728480   \n",
      "_________________________________________________________________\n",
      "dense_7 (Dense)              (None, 32)                1056      \n",
      "_________________________________________________________________\n",
      "dense_8 (Dense)              (None, 3)                 99        \n",
      "=================================================================\n",
      "Total params: 2,735,155\n",
      "Trainable params: 2,735,155\n",
      "Non-trainable params: 0\n",
      "_________________________________________________________________\n",
      "INFO:tensorflow:Assets written to: model-4\\assets\n"
     ]
    }
   ],
   "source": [
    "model.summary()\n",
    "model.save('model-4')"
   ]
  }
 ],
 "metadata": {
  "kernelspec": {
   "display_name": "Python 3",
   "language": "python",
   "name": "python3"
  },
  "language_info": {
   "codemirror_mode": {
    "name": "ipython",
    "version": 3
   },
   "file_extension": ".py",
   "mimetype": "text/x-python",
   "name": "python",
   "nbconvert_exporter": "python",
   "pygments_lexer": "ipython3",
   "version": "3.7.6"
  }
 },
 "nbformat": 4,
 "nbformat_minor": 4
}
