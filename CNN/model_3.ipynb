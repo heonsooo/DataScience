{
 "cells": [
  {
   "source": [
    "Image Data불러오기 시행착오\n"
   ],
   "cell_type": "markdown",
   "metadata": {}
  },
  {
   "cell_type": "code",
   "execution_count": 1,
   "metadata": {},
   "outputs": [],
   "source": [
    "import numpy as np \n",
    "import pandas as pd \n",
    "import os\n",
    "import matplotlib.pyplot as plt\n",
    "import cv2\n",
    "from tensorflow.keras.layers import Input, Conv2D, MaxPooling2D, Dense, Flatten\n",
    "from keras.utils import to_categorical\n",
    "\n",
    "from keras.models import Sequential, load_model\n",
    "\n",
    "from sklearn.model_selection import train_test_split\n",
    "from sklearn.utils import shuffle\n",
    "np.random.seed(1)"
   ]
  },
  {
   "cell_type": "markdown",
   "metadata": {},
   "source": [
    "image    \n",
    "[food] : 10000  \n",
    "[interior] : 10000  \n",
    "[exterior] : 10000   \n",
    "\n",
    "----\n",
    "데이터 30,000개 불러오기 실패\n"
   ]
  },
  {
   "cell_type": "code",
   "execution_count": 2,
   "metadata": {},
   "outputs": [],
   "source": [
    "def image_load_data():\n",
    "    train_images = []       \n",
    "    train_labels = []\n",
    "    shape = (300,300)  \n",
    "    train_path = './image'\n",
    "\n",
    "    for classes in ['f','i','e']:\n",
    "        for filename in os.listdir('./image'):\n",
    "            if classes == filename[0]:\n",
    "                img = cv2.imread(os.path.join(train_path,filename))\n",
    "                #print(filename)\n",
    "                # print(img)\n",
    "                # Spliting file names and storing the labels for image in list\n",
    "                train_labels.append(filename[2:0:-1])\n",
    "\n",
    "                # Resize all images to a specific shape\n",
    "                #img = cv2.resize(img,shape)\n",
    "\n",
    "                train_images.append(img)\n",
    "            else:\n",
    "                pass\n",
    "\n",
    "    # Converting labels into One Hot encoded sparse matrix\n",
    "\n",
    "    # 음식, 실내 ,실외 순으로 들어가기 위해 index 처리\n",
    "    # train_labels = sorted(train_labels)\n",
    "    # print(train_labels)\n",
    "\n",
    "    train_labels = pd.get_dummies((train_labels)).values\n",
    "    # print(train_labels)\n",
    "    # Converting train_images to array\n",
    "    train_images = np.array(train_images)\n",
    "\n",
    "    # Splitting Training data into train and validation dataset\n",
    "\n",
    "    train_images ,train_labels= shuffle(train_images ,train_labels, random_state = 42) \n",
    "\n",
    "    x_train,x_test,y_train,y_test = train_test_split(train_images,train_labels,test_size=0.2,random_state=42)\n",
    "    # print(train_labels.shape)\n",
    "    # print(train_labels)\n",
    "    # print(len(x_train),len(x_test),len(y_train),len(y_test))\n",
    "\n",
    "    return x_train, x_test, y_train, y_test \n"
   ]
  },
  {
   "cell_type": "markdown",
   "metadata": {},
   "source": [
    "활성함수  \n",
    "1) Conv2D(32, kernel_size=3, activation='selu)  \n",
    "2) Dropout(0.5)  \n",
    "3) MaxPooling2D(pool_size=2)  \n",
    "  \n",
    "4) Conv2D(32, kernel_size=3, activation='selu')  \n",
    "5) MaxPooling2D(pool_size=2)  \n",
    "  \n",
    "6) Dense(20,activation='selu')  \n",
    "7) Flatten()  "
   ]
  },
  {
   "cell_type": "code",
   "execution_count": 7,
   "metadata": {},
   "outputs": [
    {
     "ename": "MemoryError",
     "evalue": "Unable to allocate 3.77 GiB for an array with shape (15000, 300, 300, 3) and data type uint8",
     "output_type": "error",
     "traceback": [
      "\u001b[1;31m---------------------------------------------------------------------------\u001b[0m",
      "\u001b[1;31mMemoryError\u001b[0m                               Traceback (most recent call last)",
      "\u001b[1;32m<ipython-input-7-b6094fb81dd2>\u001b[0m in \u001b[0;36m<module>\u001b[1;34m\u001b[0m\n\u001b[1;32m----> 1\u001b[1;33m \u001b[0mX_train\u001b[0m\u001b[1;33m,\u001b[0m\u001b[0mX_test\u001b[0m\u001b[1;33m,\u001b[0m\u001b[0my_train\u001b[0m\u001b[1;33m,\u001b[0m \u001b[0my_test\u001b[0m \u001b[1;33m=\u001b[0m\u001b[0mimage_load_data\u001b[0m\u001b[1;33m(\u001b[0m\u001b[1;33m)\u001b[0m\u001b[1;33m\u001b[0m\u001b[1;33m\u001b[0m\u001b[0m\n\u001b[0m\u001b[0;32m      2\u001b[0m \u001b[0mmodel\u001b[0m\u001b[1;33m,\u001b[0m \u001b[0mhistory\u001b[0m \u001b[1;33m=\u001b[0m \u001b[0mtrain_cnn_model\u001b[0m\u001b[1;33m(\u001b[0m\u001b[1;33m)\u001b[0m\u001b[1;33m\u001b[0m\u001b[1;33m\u001b[0m\u001b[0m\n",
      "\u001b[1;32m<ipython-input-2-6a9be672bb0a>\u001b[0m in \u001b[0;36mimage_load_data\u001b[1;34m()\u001b[0m\n\u001b[0;32m     30\u001b[0m     \u001b[1;31m# print(train_labels)\u001b[0m\u001b[1;33m\u001b[0m\u001b[1;33m\u001b[0m\u001b[1;33m\u001b[0m\u001b[0m\n\u001b[0;32m     31\u001b[0m     \u001b[1;31m# Converting train_images to array\u001b[0m\u001b[1;33m\u001b[0m\u001b[1;33m\u001b[0m\u001b[1;33m\u001b[0m\u001b[0m\n\u001b[1;32m---> 32\u001b[1;33m     \u001b[0mtrain_images\u001b[0m \u001b[1;33m=\u001b[0m \u001b[0mnp\u001b[0m\u001b[1;33m.\u001b[0m\u001b[0marray\u001b[0m\u001b[1;33m(\u001b[0m\u001b[0mtrain_images\u001b[0m\u001b[1;33m)\u001b[0m\u001b[1;33m\u001b[0m\u001b[1;33m\u001b[0m\u001b[0m\n\u001b[0m\u001b[0;32m     33\u001b[0m \u001b[1;33m\u001b[0m\u001b[0m\n\u001b[0;32m     34\u001b[0m     \u001b[1;31m# Splitting Training data into train and validation dataset\u001b[0m\u001b[1;33m\u001b[0m\u001b[1;33m\u001b[0m\u001b[1;33m\u001b[0m\u001b[0m\n",
      "\u001b[1;31mMemoryError\u001b[0m: Unable to allocate 3.77 GiB for an array with shape (15000, 300, 300, 3) and data type uint8"
     ]
    }
   ],
   "source": [
    "X_train,X_test,y_train, y_test =image_load_data()\n",
    "model, history = train_cnn_model()"
   ]
  },
  {
   "cell_type": "markdown",
   "metadata": {},
   "source": [
    "---\n"
   ]
  }
 ],
 "metadata": {
  "kernelspec": {
   "display_name": "Python 3",
   "language": "python",
   "name": "python3"
  },
  "language_info": {
   "codemirror_mode": {
    "name": "ipython",
    "version": 3
   },
   "file_extension": ".py",
   "mimetype": "text/x-python",
   "name": "python",
   "nbconvert_exporter": "python",
   "pygments_lexer": "ipython3",
   "version": "3.7.6"
  }
 },
 "nbformat": 4,
 "nbformat_minor": 4
}