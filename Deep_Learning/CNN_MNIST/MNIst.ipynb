{
 "cells": [
  {
   "cell_type": "markdown",
   "metadata": {},
   "source": [
    "### MNIST : 미국 표준기술 연구소에서 공개한 필기체 숫자에 대한 데이터베이스\n",
    "-> Keras 내에 있음 \n",
    "\n",
    "- 필요한 모듈 import"
   ]
  },
  {
   "cell_type": "code",
   "execution_count": 2,
   "metadata": {},
   "outputs": [
    {
     "name": "stderr",
     "output_type": "stream",
     "text": [
      "Using TensorFlow backend.\n"
     ]
    }
   ],
   "source": [
    "import numpy as np\n",
    "import matplotlib.pyplot as plt\n",
    "\n",
    "from tensorflow.keras.models import Sequential, load_model\n",
    "from tensorflow.keras.layers import Input, Conv2D, MaxPooling2D, Dense, Flatten\n",
    "from keras.utils import to_categorical\n",
    "from keras.datasets import mnist"
   ]
  },
  {
   "cell_type": "markdown",
   "metadata": {},
   "source": [
    "### mnist의 데이터를 읽고 필기체의 숫자를 인식하는 프로그램 만들기!\n",
    "\n",
    "- 이미지에 대한 지식이 없어도  \n",
    "- CNN, 딥러닝의 지식이 있으면 tensorflow를 이용하여 만들 수 있음!    \n",
    "----\n",
    "\n",
    "1) 데이터를 불러와서 어떤 구조인지 확인  "
   ]
  },
  {
   "cell_type": "code",
   "execution_count": 3,
   "metadata": {},
   "outputs": [
    {
     "name": "stdout",
     "output_type": "stream",
     "text": [
      "[[[0 0 0 ... 0 0 0]\n",
      "  [0 0 0 ... 0 0 0]\n",
      "  [0 0 0 ... 0 0 0]\n",
      "  ...\n",
      "  [0 0 0 ... 0 0 0]\n",
      "  [0 0 0 ... 0 0 0]\n",
      "  [0 0 0 ... 0 0 0]]\n",
      "\n",
      " [[0 0 0 ... 0 0 0]\n",
      "  [0 0 0 ... 0 0 0]\n",
      "  [0 0 0 ... 0 0 0]\n",
      "  ...\n",
      "  [0 0 0 ... 0 0 0]\n",
      "  [0 0 0 ... 0 0 0]\n",
      "  [0 0 0 ... 0 0 0]]\n",
      "\n",
      " [[0 0 0 ... 0 0 0]\n",
      "  [0 0 0 ... 0 0 0]\n",
      "  [0 0 0 ... 0 0 0]\n",
      "  ...\n",
      "  [0 0 0 ... 0 0 0]\n",
      "  [0 0 0 ... 0 0 0]\n",
      "  [0 0 0 ... 0 0 0]]\n",
      "\n",
      " ...\n",
      "\n",
      " [[0 0 0 ... 0 0 0]\n",
      "  [0 0 0 ... 0 0 0]\n",
      "  [0 0 0 ... 0 0 0]\n",
      "  ...\n",
      "  [0 0 0 ... 0 0 0]\n",
      "  [0 0 0 ... 0 0 0]\n",
      "  [0 0 0 ... 0 0 0]]\n",
      "\n",
      " [[0 0 0 ... 0 0 0]\n",
      "  [0 0 0 ... 0 0 0]\n",
      "  [0 0 0 ... 0 0 0]\n",
      "  ...\n",
      "  [0 0 0 ... 0 0 0]\n",
      "  [0 0 0 ... 0 0 0]\n",
      "  [0 0 0 ... 0 0 0]]\n",
      "\n",
      " [[0 0 0 ... 0 0 0]\n",
      "  [0 0 0 ... 0 0 0]\n",
      "  [0 0 0 ... 0 0 0]\n",
      "  ...\n",
      "  [0 0 0 ... 0 0 0]\n",
      "  [0 0 0 ... 0 0 0]\n",
      "  [0 0 0 ... 0 0 0]]] \n",
      " ---- \n",
      " [5 0 4 ... 5 6 8]\n"
     ]
    }
   ],
   "source": [
    "(X_train, y_train), (X_test, y_test) = mnist.load_data()\n",
    "print(X_train, '\\n','--'*2,'\\n' ,y_train)"
   ]
  },
  {
   "cell_type": "markdown",
   "metadata": {},
   "source": [
    "X_train은 3차원, y_train은 1차원의 array구조임을 확인할 수 있습니다.   \n",
    "이때 첫번째 numpy행렬을 확인해보면 다음과 같이 확인할 수 있는데,    \n",
    "X는 이미지 데이터, y는 그 이미지의 숫자 를 나타내는 것임을 알 수 있습니다."
   ]
  },
  {
   "cell_type": "code",
   "execution_count": 4,
   "metadata": {},
   "outputs": [
    {
     "name": "stdout",
     "output_type": "stream",
     "text": [
      "[[  0   0   0   0   0   0   0   0   0   0   0   0   0   0   0   0   0   0\n",
      "    0   0   0   0   0   0   0   0   0   0]\n",
      " [  0   0   0   0   0   0   0   0   0   0   0   0   0   0   0   0   0   0\n",
      "    0   0   0   0   0   0   0   0   0   0]\n",
      " [  0   0   0   0   0   0   0   0   0   0   0   0   0   0   0   0   0   0\n",
      "    0   0   0   0   0   0   0   0   0   0]\n",
      " [  0   0   0   0   0   0   0   0   0   0   0   0   0   0   0   0   0   0\n",
      "    0   0   0   0   0   0   0   0   0   0]\n",
      " [  0   0   0   0   0   0   0   0   0   0   0   0   0   0   0   0   0   0\n",
      "    0   0   0   0   0   0   0   0   0   0]\n",
      " [  0   0   0   0   0   0   0   0   0   0   0   0   3  18  18  18 126 136\n",
      "  175  26 166 255 247 127   0   0   0   0]\n",
      " [  0   0   0   0   0   0   0   0  30  36  94 154 170 253 253 253 253 253\n",
      "  225 172 253 242 195  64   0   0   0   0]\n",
      " [  0   0   0   0   0   0   0  49 238 253 253 253 253 253 253 253 253 251\n",
      "   93  82  82  56  39   0   0   0   0   0]\n",
      " [  0   0   0   0   0   0   0  18 219 253 253 253 253 253 198 182 247 241\n",
      "    0   0   0   0   0   0   0   0   0   0]\n",
      " [  0   0   0   0   0   0   0   0  80 156 107 253 253 205  11   0  43 154\n",
      "    0   0   0   0   0   0   0   0   0   0]\n",
      " [  0   0   0   0   0   0   0   0   0  14   1 154 253  90   0   0   0   0\n",
      "    0   0   0   0   0   0   0   0   0   0]\n",
      " [  0   0   0   0   0   0   0   0   0   0   0 139 253 190   2   0   0   0\n",
      "    0   0   0   0   0   0   0   0   0   0]\n",
      " [  0   0   0   0   0   0   0   0   0   0   0  11 190 253  70   0   0   0\n",
      "    0   0   0   0   0   0   0   0   0   0]\n",
      " [  0   0   0   0   0   0   0   0   0   0   0   0  35 241 225 160 108   1\n",
      "    0   0   0   0   0   0   0   0   0   0]\n",
      " [  0   0   0   0   0   0   0   0   0   0   0   0   0  81 240 253 253 119\n",
      "   25   0   0   0   0   0   0   0   0   0]\n",
      " [  0   0   0   0   0   0   0   0   0   0   0   0   0   0  45 186 253 253\n",
      "  150  27   0   0   0   0   0   0   0   0]\n",
      " [  0   0   0   0   0   0   0   0   0   0   0   0   0   0   0  16  93 252\n",
      "  253 187   0   0   0   0   0   0   0   0]\n",
      " [  0   0   0   0   0   0   0   0   0   0   0   0   0   0   0   0   0 249\n",
      "  253 249  64   0   0   0   0   0   0   0]\n",
      " [  0   0   0   0   0   0   0   0   0   0   0   0   0   0  46 130 183 253\n",
      "  253 207   2   0   0   0   0   0   0   0]\n",
      " [  0   0   0   0   0   0   0   0   0   0   0   0  39 148 229 253 253 253\n",
      "  250 182   0   0   0   0   0   0   0   0]\n",
      " [  0   0   0   0   0   0   0   0   0   0  24 114 221 253 253 253 253 201\n",
      "   78   0   0   0   0   0   0   0   0   0]\n",
      " [  0   0   0   0   0   0   0   0  23  66 213 253 253 253 253 198  81   2\n",
      "    0   0   0   0   0   0   0   0   0   0]\n",
      " [  0   0   0   0   0   0  18 171 219 253 253 253 253 195  80   9   0   0\n",
      "    0   0   0   0   0   0   0   0   0   0]\n",
      " [  0   0   0   0  55 172 226 253 253 253 253 244 133  11   0   0   0   0\n",
      "    0   0   0   0   0   0   0   0   0   0]\n",
      " [  0   0   0   0 136 253 253 253 212 135 132  16   0   0   0   0   0   0\n",
      "    0   0   0   0   0   0   0   0   0   0]\n",
      " [  0   0   0   0   0   0   0   0   0   0   0   0   0   0   0   0   0   0\n",
      "    0   0   0   0   0   0   0   0   0   0]\n",
      " [  0   0   0   0   0   0   0   0   0   0   0   0   0   0   0   0   0   0\n",
      "    0   0   0   0   0   0   0   0   0   0]\n",
      " [  0   0   0   0   0   0   0   0   0   0   0   0   0   0   0   0   0   0\n",
      "    0   0   0   0   0   0   0   0   0   0]]\n",
      "5\n"
     ]
    }
   ],
   "source": [
    "print(X_train[0])  # 이미지데이터\n",
    "print(y_train[0])  # 이미지의 숫자"
   ]
  },
  {
   "cell_type": "code",
   "execution_count": 5,
   "metadata": {},
   "outputs": [
    {
     "name": "stdout",
     "output_type": "stream",
     "text": [
      "X_train shape =  (60000, 28, 28)\n",
      "y_train shape =  (60000,)\n"
     ]
    }
   ],
   "source": [
    "print('X_train shape = ',X_train.shape)\n",
    "print('y_train shape = ',y_train.shape)"
   ]
  },
  {
   "cell_type": "markdown",
   "metadata": {},
   "source": [
    "X_train은 28x28사이즈의 6만개의 이미지가 있습니다.  \n",
    "y_train은 X데이터의 이미지 숫자(0~9) 6만개가 있습니다.\n",
    "\n",
    "----"
   ]
  },
  {
   "cell_type": "markdown",
   "metadata": {},
   "source": [
    "그럼 이제 test 데이터를 확인해 보겠습니다."
   ]
  },
  {
   "cell_type": "code",
   "execution_count": 6,
   "metadata": {},
   "outputs": [
    {
     "name": "stdout",
     "output_type": "stream",
     "text": [
      "X_test shape =  (10000, 28, 28)\n",
      "y_test shape =  (10000,)\n"
     ]
    }
   ],
   "source": [
    "print('X_test shape = ',X_test.shape)\n",
    "print('y_test shape = ',y_test.shape)"
   ]
  },
  {
   "cell_type": "markdown",
   "metadata": {},
   "source": [
    "X_test는 28x28사이즈의 만 개의 이미지가 있습니다.  \n",
    "y_test는 X데이터의 이미지 숫자(0~9) 만 개가 있습니다.\n",
    "\n",
    "----"
   ]
  },
  {
   "cell_type": "markdown",
   "metadata": {},
   "source": [
    "이제 X_train의 데이터를 이미지로 표현해보도록 하겠습니다.  \n",
    "이미지로 표현하기 위해서는 plt를 사용합니다 ! \n",
    "컬러 이미지를 사용하려면 (cmap='gray')를 제거해주세요!\n"
   ]
  },
  {
   "cell_type": "code",
   "execution_count": 7,
   "metadata": {},
   "outputs": [
    {
     "name": "stdout",
     "output_type": "stream",
     "text": [
      "이 이미지의 값은 5 입니다.\n"
     ]
    },
    {
     "data": {
      "image/png": "[encoded data removed]",
      "text/plain": [
       "<Figure size 432x288 with 1 Axes>"
      ]
     },
     "metadata": {
      "needs_background": "light"
     },
     "output_type": "display_data"
    }
   ],
   "source": [
    "plt.imshow(X_train[0],cmap='gray')\n",
    "print('이 이미지의 값은', y_train[0],'입니다.')"
   ]
  },
  {
   "cell_type": "markdown",
   "metadata": {},
   "source": [
    "이를 통해 X의 데이터와 y의 데이터가 어떻게 되어있는지 확인하였습니다.   \n",
    "이제 X의 데이터의 이미지가 실제 값인 y의 값으로 인식이 되도록 해야하는 데이터임을 알게 되었습니다.\n",
    "\n"
   ]
  },
  {
   "cell_type": "code",
   "execution_count": 8,
   "metadata": {},
   "outputs": [],
   "source": [
    "def train_mnist_model():\n",
    "    (X_train, y_train), (X_test, y_test) = mnist.load_data()\n",
    "    '''\n",
    "    print(X_train, '\\n','--'*2,'\\n' ,y_train)\n",
    "    print(X_train[0])  # 이미지데이터\n",
    "    print(y_train[0])  # 이미지의 숫자\n",
    "    print('X_train shape = ',X_train.shape)\n",
    "    print('y_train shape = ',y_train.shape)\n",
    "    print('X_test shape = ',X_test.shape)\n",
    "    print('y_test shape = ',y_test.shape)\n",
    "    plt.imshow(X_train[0],cmap='gray')\n",
    "    print('이 이미지의 값은', y_train[0],'입니다.')\n",
    "    '''"
   ]
  },
  {
   "cell_type": "markdown",
   "metadata": {},
   "source": [
    "- 여기까지 데이터 로딩 및 이해였습니다.\n",
    "\n",
    "---------------"
   ]
  },
  {
   "cell_type": "markdown",
   "metadata": {},
   "source": [
    "#### X데이터를 3차원 데이터로 reshape\n",
    "CNN의 foramt에 맞추기 위해서 3차원으로 바꿔야 합니다.  \n",
    "(가로, 세로, 채널) => 3차원  \n",
    "이 차원은 2차원이기 때문에 channel 1을 추가하여 3차원으로 바꾸어 줍니다..   \n",
    "(RGB 데이터라면 channel이 3개이므로 28,28,3로 표현합니다.)"
   ]
  },
  {
   "cell_type": "code",
   "execution_count": 9,
   "metadata": {},
   "outputs": [],
   "source": [
    "X_train = X_train.reshape(60000,28,28,1) \n",
    "X_test = X_test.reshape(10000,28,28,1)"
   ]
  },
  {
   "cell_type": "markdown",
   "metadata": {},
   "source": [
    "### softmax\n",
    "- Multi-Class Classification으로 output 값을 나타냅니다.  \n",
    "  \n",
    "- output이 0부터 9까지 숫자로 총 10개의 노드이기때문에(Multi-Class output)     \n",
    "  softmax를 사용해야 합니다.\n",
    "  \n",
    "- 이를 위해서 y값을 one-hot encoding 표현법으로 변환 합니다.\n",
    "  \n",
    "###### one-hot encoding\n",
    "만약   \n",
    "y값이 1 : 0, 1, 0, 0, 0, 0, 0, 0, 0, 0  \n",
    "y값이 6 : 0, 0, 0, 0, 0, 0, 1, 0, 0, 0  \n",
    "0부터 9까지 10개의 노드에서  \n",
    "각 값에 해당하는 노드는 1, 나머지는 0 할당하는 것입니다.  "
   ]
  },
  {
   "cell_type": "code",
   "execution_count": 10,
   "metadata": {},
   "outputs": [
    {
     "name": "stdout",
     "output_type": "stream",
     "text": [
      "[0. 0. 0. 0. 0. 1. 0. 0. 0. 0.]\n"
     ]
    }
   ],
   "source": [
    "y_train = to_categorical(y_train)\n",
    "y_test = to_categorical(y_test)\n",
    "print(y_train[0])"
   ]
  },
  {
   "cell_type": "markdown",
   "metadata": {},
   "source": [
    "#### 모델링\n",
    "0) Input 데이터의 차원, 사이즈  \n",
    "\n",
    "[Hidden Layer  ]  \n",
    "1) Convolutional Layer  -> Conv2D(필터의 개수, 커널사이즈, 활성함수, 이름 지정 )  \n",
    "2) Pooling Layer        -> MaxPooling2D  \n",
    "3) Full Conected Layer (여기서는 생략하여 차원을 축소시키는 Flatten을 사용했습니다.)     \n",
    "  \n",
    "4) Softmax Layer        -> Dense(outlayer 노드수,  활성함수 = 'softmax')  \n",
    "  \n",
    "이렇게 모델링을 진행했습니다.    \n",
    "(딥러닝에서 히든레이어에 따라 복잡도가 달라지므로   \n",
    "이론적, 경험적 지식을 쌓아 최선의 방법을 찾아 가야 합니다!  )    \n",
    "con2D의 파라미터 개수 = n_filters * (filter_size + 1)= 32*(9+1) = 320개 "
   ]
  },
  {
   "cell_type": "code",
   "execution_count": 11,
   "metadata": {},
   "outputs": [
    {
     "name": "stdout",
     "output_type": "stream",
     "text": [
      "Model: \"sequential\"\n",
      "_________________________________________________________________\n",
      "Layer (type)                 Output Shape              Param #   \n",
      "=================================================================\n",
      "cov_layer1 (Conv2D)          (None, 26, 26, 32)        320       \n",
      "_________________________________________________________________\n",
      "max_pooling2d (MaxPooling2D) (None, 13, 13, 32)        0         \n",
      "_________________________________________________________________\n",
      "flatten (Flatten)            (None, 5408)              0         \n",
      "_________________________________________________________________\n",
      "dense (Dense)                (None, 10)                54090     \n",
      "=================================================================\n",
      "Total params: 54,410\n",
      "Trainable params: 54,410\n",
      "Non-trainable params: 0\n",
      "_________________________________________________________________\n"
     ]
    }
   ],
   "source": [
    "model = Sequential([\n",
    "            Input(shape = (28,28,1), name = 'input_layer'),\n",
    "            Conv2D(32,kernel_size=3, activation= 'relu', name = 'cov_layer1' ),\n",
    "            #Dropout(0.5) 데이터 기반한 weight를 줄여 오버핏팅을 줄이는 것\n",
    "            MaxPooling2D(pool_size= 2), \n",
    "            Flatten(), \n",
    "            Dense(10, activation= 'softmax', name = '')\n",
    "            ])\n",
    "\n",
    "model.summary()"
   ]
  },
  {
   "cell_type": "code",
   "execution_count": 12,
   "metadata": {},
   "outputs": [
    {
     "name": "stdout",
     "output_type": "stream",
     "text": [
      "Train on 60000 samples, validate on 10000 samples\n",
      "Epoch 1/3\n",
      "60000/60000 [==============================] - 22s 375us/sample - loss: 0.4442 - accuracy: 0.9441 - val_loss: 0.1382 - val_accuracy: 0.9611\n",
      "Epoch 2/3\n",
      "60000/60000 [==============================] - 20s 334us/sample - loss: 0.1075 - accuracy: 0.9679 - val_loss: 0.1155 - val_accuracy: 0.9712\n",
      "Epoch 3/3\n",
      "60000/60000 [==============================] - 20s 327us/sample - loss: 0.0877 - accuracy: 0.9739 - val_loss: 0.1187 - val_accuracy: 0.9685\n"
     ]
    }
   ],
   "source": [
    "model.compile(optimizer= 'adam', loss='categorical_crossentropy',metrics=['accuracy'])\n",
    "history = model.fit(X_train,y_train, validation_data=(X_test, y_test), batch_size=10, epochs = 3)\n"
   ]
  },
  {
   "cell_type": "code",
   "execution_count": 13,
   "metadata": {},
   "outputs": [],
   "source": [
    "def plot_loss_curve(history):\n",
    "    plt.figure(figsize = (5,3))\n",
    "    \n",
    "    plt.plot(history['loss'])\n",
    "    plt.plot(history['val_loss'])\n",
    "    \n",
    "    plt.title('model loss')\n",
    "    plt.xlabel('epoch')\n",
    "    plt.ylabel('loss')\n",
    "    plt.legend(['train','test'], loc = 'upper right')\n",
    "    plt.show"
   ]
  },
  {
   "cell_type": "code",
   "execution_count": 14,
   "metadata": {},
   "outputs": [
    {
     "name": "stdout",
     "output_type": "stream",
     "text": [
      "{'loss': [0.44415029013617086, 0.10751354535827765, 0.08772805138246678], 'accuracy': [0.9441, 0.96785, 0.97385], 'val_loss': [0.13818073739786632, 0.11550658857616646, 0.11869773570185088], 'val_accuracy': [0.9611, 0.9712, 0.9685]}\n",
      "train loss = 0.08772805138246678\n",
      "validation loss = 0.11869773570185088\n",
      "WARNING:tensorflow:From C:\\ProgramData\\Anaconda3\\lib\\site-packages\\tensorflow_core\\python\\ops\\resource_variable_ops.py:1781: calling BaseResourceVariable.__init__ (from tensorflow.python.ops.resource_variable_ops) with constraint is deprecated and will be removed in a future version.\n",
      "Instructions for updating:\n",
      "If using Keras pass *_constraint arguments to layers.\n",
      "INFO:tensorflow:Assets written to: mnist.model\\assets\n"
     ]
    },
    {
     "data": {
      "image/png": "[encoded data removed]",
      "text/plain": [
       "<Figure size 360x216 with 1 Axes>"
      ]
     },
     "metadata": {
      "needs_background": "light"
     },
     "output_type": "display_data"
    }
   ],
   "source": [
    "plot_loss_curve(history.history)\n",
    "print(history.history)\n",
    "\n",
    "print('train loss =', history.history['loss'][-1])\n",
    "print('validation loss =', history.history['val_loss'][-1])\n",
    "\n",
    "model.save('mnist.model')\n"
   ]
  },
  {
   "cell_type": "markdown",
   "metadata": {},
   "source": [
    "----"
   ]
  },
  {
   "cell_type": "code",
   "execution_count": 15,
   "metadata": {},
   "outputs": [
    {
     "name": "stdout",
     "output_type": "stream",
     "text": [
      "Train on 60000 samples, validate on 10000 samples\n",
      "Epoch 1/3\n",
      "60000/60000 [==============================] - 17s 279us/sample - loss: 0.0615 - accuracy: 0.9823 - val_loss: 0.1082 - val_accuracy: 0.9731\n",
      "Epoch 2/3\n",
      "60000/60000 [==============================] - 16s 263us/sample - loss: 0.0486 - accuracy: 0.9854 - val_loss: 0.1167 - val_accuracy: 0.9747\n",
      "Epoch 3/3\n",
      "60000/60000 [==============================] - 17s 278us/sample - loss: 0.0418 - accuracy: 0.9879 - val_loss: 0.1319 - val_accuracy: 0.9752\n",
      "{'loss': [0.06148121261714088, 0.048647613729715135, 0.04178916824188802], 'accuracy': [0.98226666, 0.98538333, 0.98785], 'val_loss': [0.10820213233468166, 0.11666784845924258, 0.1319326322514219], 'val_accuracy': [0.9731, 0.9747, 0.9752]}\n",
      "train loss = 0.04178916824188802\n",
      "validation loss = 0.1319326322514219\n",
      "INFO:tensorflow:Assets written to: mnist.model\\assets\n"
     ]
    },
    {
     "data": {
      "image/png": "[encoded data removed]",
      "text/plain": [
       "<Figure size 360x216 with 1 Axes>"
      ]
     },
     "metadata": {
      "needs_background": "light"
     },
     "output_type": "display_data"
    }
   ],
   "source": [
    "def plot_loss_curve(history):\n",
    "    plt.figure(figsize = (5,3))\n",
    "    \n",
    "    plt.plot(history['loss'])\n",
    "    plt.plot(history['val_loss'])\n",
    "    \n",
    "    plt.title('model loss')\n",
    "    plt.xlabel('epoch')\n",
    "    plt.ylabel('loss')\n",
    "    plt.legend(['train','test'], loc = 'upper right')\n",
    "    plt.show\n",
    "    \n",
    "def train_mnist_model():\n",
    "    (X_train, y_train), (X_test, y_test) = mnist.load_data()\n",
    "    X_train = X_train.reshape(60000,28,28,1) \n",
    "    X_test = X_test.reshape(10000,28,28,1)\n",
    "    y_train = to_categorical(y_train)\n",
    "    y_test = to_categorical(y_test)\n",
    "#     print(y_train[1563])\n",
    "    \n",
    "    \n",
    "    model.compile(optimizer= 'adam', loss='categorical_crossentropy',metrics=['accuracy'])\n",
    "    history = model.fit(X_train,y_train, validation_data=(X_test, y_test), batch_size=20, epochs = 3)\n",
    "    \n",
    "    plot_loss_curve(history.history)\n",
    "    print(history.history)\n",
    "    print('train loss =', history.history['loss'][-1])\n",
    "    print('validation loss =', history.history['val_loss'][-1])\n",
    "\n",
    "    model.save('mnist.model')\n",
    "\n",
    "\n",
    "    \n",
    "if __name__ == '__main__':\n",
    "    train_mnist_model()"
   ]
  },
  {
   "cell_type": "markdown",
   "metadata": {},
   "source": [
    "- 이렇게해서 데이터를 로딩하고, train 모델까지 완성 했습니다.\n",
    "\n",
    "----\n",
    "\n",
    "- 예측 하기"
   ]
  },
  {
   "cell_type": "code",
   "execution_count": null,
   "metadata": {},
   "outputs": [],
   "source": [
    "def predict_image_sample(model,X_test, y_test, test_id= -1 ):\n",
    "    if test_id <0 :\n",
    "        from random import randrange\n",
    "        test_sample_id = randrange(10000)\n",
    "    else:\n",
    "        test_sample_id = test_id\n",
    "    \n",
    "    test_image =X_test[test_sample_id]\n",
    "    \n",
    "    \n",
    "    "
   ]
  },
  {
   "cell_type": "code",
   "execution_count": null,
   "metadata": {},
   "outputs": [],
   "source": []
  },
  {
   "cell_type": "code",
   "execution_count": null,
   "metadata": {},
   "outputs": [],
   "source": []
  }
 ],
 "metadata": {
  "kernelspec": {
   "display_name": "Python 3",
   "language": "python",
   "name": "python3"
  },
  "language_info": {
   "codemirror_mode": {
    "name": "ipython",
    "version": 3
   },
   "file_extension": ".py",
   "mimetype": "text/x-python",
   "name": "python",
   "nbconvert_exporter": "python",
   "pygments_lexer": "ipython3",
   "version": "3.7.6"
  }
 },
 "nbformat": 4,
 "nbformat_minor": 4
}
