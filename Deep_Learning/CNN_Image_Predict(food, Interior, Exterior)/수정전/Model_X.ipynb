{
 "cells": [
  {
   "cell_type": "markdown",
   "metadata": {},
   "source": [
    "Model X  like Tesla \n",
    "정규화는 레이어에서 \n"
   ]
  },
  {
   "cell_type": "code",
   "execution_count": 104,
   "metadata": {},
   "outputs": [],
   "source": [
    "import cv2"
   ]
  },
  {
   "cell_type": "code",
   "execution_count": 28,
   "metadata": {},
   "outputs": [],
   "source": [
    "import os\n",
    "import numpy as np\n",
    "import tensorflow as tf\n",
    "import matplotlib.pyplot as plt\n",
    "import cv2\n",
    "\n",
    "from keras.models import Sequential,load_model\n",
    "from tensorflow.keras.layers import  Input, Conv2D, MaxPooling2D, Dense, Flatten, experimental, Dropout\n",
    "from keras.preprocessing.image import ImageDataGenerator\n",
    "# from tensorflow.keras.callbacks import ModelCheckpoint\n",
    "\n",
    "\n",
    "import pandas as pd \n",
    "\n",
    "from keras.utils import to_categorical\n",
    "\n",
    "from sklearn.model_selection import train_test_split\n",
    "from sklearn.utils import shuffle\n",
    "\n",
    "\n",
    "os.environ['TF_CPP_MIN_LOG_LEVEL'] = '3' \n"
   ]
  },
  {
   "cell_type": "code",
   "execution_count": 29,
   "metadata": {},
   "outputs": [
    {
     "name": "stdout",
     "output_type": "stream",
     "text": [
      "Found 36000 images belonging to 3 classes.\n",
      "Found 9000 images belonging to 3 classes.\n"
     ]
    }
   ],
   "source": [
    "# 데이터 증가\n",
    "train_data_augmentation = ImageDataGenerator(\n",
    "#     featurewise_center=True,\n",
    "    validation_split = 0.2,\n",
    "    rotation_range=30,\n",
    "    width_shift_range=0.1,\n",
    "    height_shift_range=0.1)\n",
    "\n",
    "#train 데이터 설정 \n",
    "train_data = train_data_augmentation.flow_from_directory(\n",
    "        './images2/train',\n",
    "        target_size = (300,300),\n",
    "        batch_size=128,\n",
    "        #color_mode ='rgb',\n",
    "        classes = ['food','interior', 'exterior'],\n",
    "        shuffle =True,\n",
    "        seed = 42,\n",
    "        class_mode='categorical',\n",
    "        subset='training')\n",
    "\n",
    "# validation 데이터 설정\n",
    "train_data = train_data_augmentation.flow_from_directory(\n",
    "        './images2/train',\n",
    "        target_size = (300,300),\n",
    "        batch_size=128,\n",
    "        classes = ['food','interior', 'exterior'],\n",
    "        shuffle =True,\n",
    "\n",
    "        class_mode='categorical',\n",
    "        subset='training')\n",
    "\n",
    "\n",
    "#test 데이터 설정\n",
    "test_data = ImageDataGenerator().flow_from_directory(\n",
    "        './images2/test',\n",
    "        classes = ['food','interior', 'exterior'],\n",
    "        target_size=(300,300),\n",
    "        batch_size=32,\n",
    "        shuffle =True,\n",
    "        seed = 42,\n",
    "        class_mode='categorical')"
   ]
  },
  {
   "cell_type": "code",
   "execution_count": 76,
   "metadata": {},
   "outputs": [
    {
     "name": "stdout",
     "output_type": "stream",
     "text": [
      "Model: \"sequential_5\"\n",
      "_________________________________________________________________\n",
      "Layer (type)                 Output Shape              Param #   \n",
      "=================================================================\n",
      "rescaling (Rescaling)        (None, 300, 300, 3)       0         \n",
      "_________________________________________________________________\n",
      "Conv_layer1 (Conv2D)         (None, 298, 298, 32)      896       \n",
      "_________________________________________________________________\n",
      "Pooling_layer2 (MaxPooling2D (None, 149, 149, 32)      0         \n",
      "_________________________________________________________________\n",
      "Conv_layer3 (Conv2D)         (None, 147, 147, 32)      9248      \n",
      "_________________________________________________________________\n",
      "Pooling_layer4 (MaxPooling2D (None, 73, 73, 32)        0         \n",
      "_________________________________________________________________\n",
      "Conv_layer5 (Conv2D)         (None, 71, 71, 32)        9248      \n",
      "_________________________________________________________________\n",
      "Pooling_layer6 (MaxPooling2D (None, 35, 35, 32)        0         \n",
      "_________________________________________________________________\n",
      "dropout_2 (Dropout)          (None, 35, 35, 32)        0         \n",
      "_________________________________________________________________\n",
      "Conv_layer7 (Conv2D)         (None, 33, 33, 32)        9248      \n",
      "_________________________________________________________________\n",
      "Conv_layer8 (Conv2D)         (None, 31, 31, 32)        9248      \n",
      "_________________________________________________________________\n",
      "Pooling_layer9 (MaxPooling2D (None, 15, 15, 32)        0         \n",
      "_________________________________________________________________\n",
      "flatten_5 (Flatten)          (None, 7200)              0         \n",
      "_________________________________________________________________\n",
      "FC_layer10 (Dense)           (None, 10)                72010     \n",
      "_________________________________________________________________\n",
      "output_layer (Dense)         (None, 3)                 33        \n",
      "=================================================================\n",
      "Total params: 109,931\n",
      "Trainable params: 109,931\n",
      "Non-trainable params: 0\n",
      "_________________________________________________________________\n"
     ]
    }
   ],
   "source": [
    "model = Sequential([\n",
    "Input(shape=(300,300,3), name='input_layer'),\n",
    "# experimental.preprocessing.Resizing(\n",
    "# height=1./255, width=1./255, interpolation=\"nearest\", name='resizing_Layer'),\n",
    "# BatchNormalization(), \n",
    "experimental.preprocessing.Rescaling(1./255),\n",
    "Conv2D(32,(3,3), activation='relu',name='Conv_layer1'),\n",
    "MaxPooling2D(pool_size=(2,2),name='Pooling_layer2'),\n",
    "Conv2D(32,(3,3), activation='relu',name='Conv_layer3'),\n",
    "MaxPooling2D(pool_size=(2,2),name='Pooling_layer4'),\n",
    "Conv2D(32,(3,3), activation='relu',name='Conv_layer5'),\n",
    "MaxPooling2D(pool_size=(2,2),name='Pooling_layer6'),\n",
    "Dropout(0.5),\n",
    "Conv2D(32,(3,3), activation='relu',name='Conv_layer7'),\n",
    "Conv2D(32,(3,3), activation='relu',name='Conv_layer8'),\n",
    "MaxPooling2D(pool_size=(2,2),name='Pooling_layer9'),\n",
    "Flatten(),\n",
    "Dense(10, activation='relu',name='FC_layer10'),\n",
    "Dense(3, activation='softmax', name='output_layer')\n",
    "])\n",
    "\n",
    "\n",
    "# 3. 모델 학습과정 설정 및 요약\n",
    "model.summary()\n",
    "model.compile(loss='categorical_crossentropy', optimizer='adam', metrics=['accuracy'])\n"
   ]
  },
  {
   "cell_type": "code",
   "execution_count": 77,
   "metadata": {},
   "outputs": [
    {
     "name": "stdout",
     "output_type": "stream",
     "text": [
      "Epoch 1/5\n",
      "5/5 [==============================] - 26s 5s/step - loss: 1.0723 - accuracy: 0.4453 - val_loss: 1.0768 - val_accuracy: 0.4313\n",
      "Epoch 2/5\n",
      "5/5 [==============================] - 28s 6s/step - loss: 1.0487 - accuracy: 0.4328 - val_loss: 1.0426 - val_accuracy: 0.4125\n",
      "Epoch 3/5\n",
      "5/5 [==============================] - 32s 6s/step - loss: 0.9875 - accuracy: 0.4437 - val_loss: 0.9836 - val_accuracy: 0.4437\n",
      "Epoch 4/5\n",
      "5/5 [==============================] - 31s 6s/step - loss: 0.9329 - accuracy: 0.4656 - val_loss: 0.9486 - val_accuracy: 0.4563\n",
      "Epoch 5/5\n",
      "5/5 [==============================] - 98s 20s/step - loss: 0.9648 - accuracy: 0.4734 - val_loss: 0.9635 - val_accuracy: 0.4812\n",
      "INFO:tensorflow:Assets written to: model-X\\assets\n"
     ]
    }
   ],
   "source": [
    "# 4. 모델 학습\n",
    "model.fit_generator(\n",
    "    train_generator,\n",
    "    steps_per_epoch=5,\n",
    "    epochs=5,\n",
    "    validation_data=test_generator,\n",
    "    validation_steps=5)\n",
    "model.save('model-X')"
   ]
  },
  {
   "cell_type": "code",
   "execution_count": 84,
   "metadata": {},
   "outputs": [
    {
     "name": "stdout",
     "output_type": "stream",
     "text": [
      "-- Evaluate --\n",
      "accuracy: 59.38%\n",
      "-- Predict --\n",
      "{'food': 0, 'interior': 1, 'exterior': 2}\n",
      "[[0.660 0.318 0.022]\n",
      " [0.383 0.372 0.245]\n",
      " [0.330 0.346 0.323]\n",
      " [0.331 0.353 0.316]\n",
      " [0.343 0.355 0.302]\n",
      " [0.331 0.347 0.321]\n",
      " [0.342 0.352 0.306]\n",
      " [0.331 0.358 0.311]\n",
      " [0.392 0.384 0.225]\n",
      " [0.340 0.349 0.312]\n",
      " [0.386 0.391 0.223]\n",
      " [0.317 0.343 0.340]\n",
      " [0.343 0.354 0.303]\n",
      " [0.442 0.388 0.170]\n",
      " [0.516 0.356 0.128]\n",
      " [0.351 0.369 0.281]\n",
      " [0.742 0.247 0.010]\n",
      " [0.321 0.341 0.338]\n",
      " [0.353 0.372 0.275]\n",
      " [0.354 0.375 0.271]\n",
      " [0.369 0.390 0.241]\n",
      " [0.327 0.345 0.328]\n",
      " [0.445 0.417 0.138]\n",
      " [0.516 0.377 0.107]\n",
      " [0.433 0.359 0.208]\n",
      " [0.534 0.357 0.109]\n",
      " [0.340 0.352 0.308]\n",
      " [0.569 0.350 0.081]\n",
      " [0.333 0.349 0.318]\n",
      " [0.610 0.294 0.096]\n",
      " [0.323 0.340 0.337]\n",
      " [0.666 0.309 0.025]\n",
      " [0.317 0.343 0.340]\n",
      " [0.330 0.343 0.326]\n",
      " [0.635 0.312 0.053]\n",
      " [0.524 0.357 0.119]\n",
      " [0.461 0.416 0.123]\n",
      " [0.626 0.328 0.046]\n",
      " [0.603 0.324 0.073]\n",
      " [0.610 0.332 0.058]\n",
      " [0.922 0.078 0.000]\n",
      " [0.801 0.194 0.004]\n",
      " [0.498 0.365 0.137]\n",
      " [0.545 0.368 0.087]\n",
      " [0.340 0.352 0.308]\n",
      " [0.367 0.367 0.267]\n",
      " [0.315 0.344 0.341]\n",
      " [0.612 0.380 0.008]\n",
      " [0.319 0.342 0.339]\n",
      " [0.314 0.345 0.341]\n",
      " [0.607 0.337 0.057]\n",
      " [0.325 0.348 0.327]\n",
      " [0.323 0.340 0.337]\n",
      " [0.330 0.349 0.321]\n",
      " [0.642 0.305 0.053]\n",
      " [0.822 0.174 0.005]\n",
      " [0.574 0.337 0.089]\n",
      " [0.319 0.342 0.339]\n",
      " [0.502 0.377 0.121]\n",
      " [0.403 0.402 0.195]\n",
      " [0.417 0.358 0.225]\n",
      " [0.701 0.266 0.033]\n",
      " [0.410 0.415 0.175]\n",
      " [0.514 0.357 0.129]\n",
      " [0.479 0.397 0.124]\n",
      " [0.325 0.343 0.332]\n",
      " [0.487 0.370 0.143]\n",
      " [0.385 0.373 0.242]\n",
      " [0.471 0.397 0.132]\n",
      " [0.818 0.180 0.002]\n",
      " [0.544 0.375 0.081]\n",
      " [0.369 0.391 0.240]\n",
      " [0.320 0.342 0.338]\n",
      " [0.631 0.302 0.067]\n",
      " [0.543 0.348 0.109]\n",
      " [0.481 0.358 0.161]\n",
      " [0.501 0.367 0.132]\n",
      " [0.317 0.343 0.340]\n",
      " [0.890 0.110 0.000]\n",
      " [0.317 0.343 0.340]\n",
      " [0.316 0.344 0.340]\n",
      " [0.376 0.388 0.236]\n",
      " [0.581 0.346 0.073]\n",
      " [0.314 0.345 0.342]\n",
      " [0.382 0.372 0.246]\n",
      " [0.342 0.354 0.304]\n",
      " [0.365 0.374 0.261]\n",
      " [0.627 0.316 0.056]\n",
      " [0.543 0.369 0.088]\n",
      " [0.494 0.369 0.137]\n",
      " [0.485 0.347 0.168]\n",
      " [0.612 0.326 0.062]\n",
      " [0.325 0.339 0.336]\n",
      " [0.520 0.384 0.096]\n",
      " [0.543 0.372 0.085]\n",
      " [0.315 0.344 0.341]\n",
      " [0.742 0.248 0.011]\n",
      " [0.320 0.342 0.338]\n",
      " [0.355 0.371 0.273]\n",
      " [0.365 0.365 0.271]\n",
      " [0.332 0.344 0.324]\n",
      " [0.354 0.367 0.280]\n",
      " [0.457 0.372 0.171]\n",
      " [0.569 0.358 0.074]\n",
      " [0.570 0.332 0.098]\n",
      " [0.494 0.422 0.084]\n",
      " [0.703 0.268 0.028]\n",
      " [0.655 0.320 0.025]\n",
      " [0.316 0.344 0.340]\n",
      " [0.425 0.403 0.172]\n",
      " [0.857 0.140 0.003]\n",
      " [0.318 0.343 0.339]\n",
      " [0.326 0.340 0.334]\n",
      " [0.400 0.382 0.219]\n",
      " [0.567 0.326 0.107]\n",
      " [0.534 0.408 0.058]\n",
      " [0.620 0.310 0.070]\n",
      " [0.316 0.344 0.340]\n",
      " [0.315 0.344 0.341]\n",
      " [0.316 0.343 0.340]\n",
      " [0.711 0.256 0.033]\n",
      " [0.422 0.415 0.163]\n",
      " [0.505 0.367 0.129]\n",
      " [0.317 0.343 0.340]\n",
      " [0.496 0.414 0.090]\n",
      " [0.360 0.391 0.249]\n",
      " [0.406 0.380 0.215]\n",
      " [0.621 0.339 0.039]\n",
      " [0.325 0.339 0.336]\n",
      " [0.549 0.371 0.080]\n",
      " [0.435 0.402 0.163]\n",
      " [0.316 0.344 0.340]\n",
      " [0.319 0.342 0.339]\n",
      " [0.317 0.343 0.340]\n",
      " [0.382 0.362 0.256]\n",
      " [0.408 0.363 0.228]\n",
      " [0.437 0.390 0.173]\n",
      " [0.322 0.341 0.338]\n",
      " [0.331 0.354 0.316]\n",
      " [0.466 0.441 0.093]\n",
      " [0.536 0.366 0.099]\n",
      " [0.430 0.397 0.173]\n",
      " [0.530 0.382 0.088]\n",
      " [0.387 0.368 0.245]\n",
      " [0.489 0.368 0.144]\n",
      " [0.427 0.365 0.208]\n",
      " [0.529 0.338 0.133]\n",
      " [0.415 0.400 0.185]\n",
      " [0.442 0.368 0.190]\n",
      " [0.324 0.341 0.335]\n",
      " [0.322 0.341 0.338]\n",
      " [0.382 0.390 0.228]\n",
      " [0.633 0.323 0.044]\n",
      " [0.418 0.390 0.192]\n",
      " [0.346 0.368 0.286]\n",
      " [0.342 0.367 0.291]\n",
      " [0.317 0.343 0.340]\n",
      " [0.537 0.408 0.055]\n",
      " [0.356 0.379 0.266]\n",
      " [0.317 0.343 0.340]]\n"
     ]
    }
   ],
   "source": [
    "# 5. 모델 평가하기\n",
    "print(\"-- Evaluate --\")\n",
    "scores = model.evaluate_generator(test_generator, steps=5)\n",
    "print(\"%s: %.2f%%\" %(model.metrics_names[1], scores[1]*100))\n",
    "\n",
    "# 6. 모델 사용하기\n",
    "print(\"-- Predict --\")\n",
    "output = model.predict_generator(test_generator, steps=5)\n",
    "np.set_printoptions(formatter={'float': lambda x: \"{0:0.3f}\".format(x)})\n",
    "print(test_generator.class_indices)\n",
    "print(output)"
   ]
  },
  {
   "cell_type": "code",
   "execution_count": 86,
   "metadata": {},
   "outputs": [
    {
     "name": "stdout",
     "output_type": "stream",
     "text": [
      "<class 'tensorflow.python.keras.preprocessing.image.DirectoryIterator'>\n"
     ]
    }
   ],
   "source": [
    "print(type(test_generator))"
   ]
  },
  {
   "cell_type": "code",
   "execution_count": 82,
   "metadata": {},
   "outputs": [
    {
     "name": "stdout",
     "output_type": "stream",
     "text": [
      "(160, 3)\n"
     ]
    }
   ],
   "source": [
    "print(output.shape)"
   ]
  },
  {
   "cell_type": "code",
   "execution_count": 88,
   "metadata": {},
   "outputs": [
    {
     "name": "stdout",
     "output_type": "stream",
     "text": [
      "(9000, 300, 300, 3)\n",
      "(9000, 3)\n"
     ]
    }
   ],
   "source": [
    "x=np.concatenate([test_generator.next()[0] for i in range(test_generator.__len__())])\n",
    "y=np.concatenate([test_generator.next()[1] for i in range(test_generator.__len__())])\n",
    "print(x.shape)\n",
    "print(y.shape)"
   ]
  },
  {
   "cell_type": "code",
   "execution_count": 119,
   "metadata": {},
   "outputs": [],
   "source": [
    "def predict_image_sample(model,X_test, y_test, test_id= -1 ):\n",
    "    if test_id <0 :\n",
    "        from random import randrange\n",
    "        test_sample_id = randrange(9000)\n",
    "    else:\n",
    "        test_sample_id = test_id\n",
    "    \n",
    "    test_image =X_test[test_sample_id]\n",
    "#     plt.axis(\"off\")\n",
    "#     plt.imshow(x[test_sample_id])\n",
    "#      plt.show()\n",
    "    image = cv2.cvtColor(x[test_sample_id], cv2.COLOR_BGR2RGB)\n",
    "\n",
    "    pixels = np.array(x[test_sample_id],np.int32)\n",
    "    plt.imshow(pixels)\n",
    "    plt.show()\n",
    "\n",
    "    \n",
    "    test_image = test_image.reshape(1,300,300,3)\n",
    "    print(test_generator.class_indices)\n",
    "    y_actual = y_test[test_sample_id]\n",
    "    print('y_actual number = ', y_actual)\n",
    "    \n",
    "    y_pred = model.predict(test_image)\n",
    "    print(\"y_pred = \", y_pred)\n",
    "    y_pred = np.argmax(y_pred, axis = 1)[0]\n",
    "    print('y_pred number = ', y_pred)"
   ]
  },
  {
   "cell_type": "code",
   "execution_count": 121,
   "metadata": {},
   "outputs": [
    {
     "data": {
      "image/png": "[encoded data removed]",
      "text/plain": [
       "<Figure size 432x288 with 1 Axes>"
      ]
     },
     "metadata": {
      "needs_background": "light"
     },
     "output_type": "display_data"
    },
    {
     "name": "stdout",
     "output_type": "stream",
     "text": [
      "{'food': 0, 'interior': 1, 'exterior': 2}\n",
      "y_actual number =  [0.000 1.000 0.000]\n",
      "WARNING:tensorflow:11 out of the last 11 calls to <function Model.make_predict_function.<locals>.predict_function at 0x000001E5C1AF8828> triggered tf.function retracing. Tracing is expensive and the excessive number of tracings could be due to (1) creating @tf.function repeatedly in a loop, (2) passing tensors with different shapes, (3) passing Python objects instead of tensors. For (1), please define your @tf.function outside of the loop. For (2), @tf.function has experimental_relax_shapes=True option that relaxes argument shapes that can avoid unnecessary retracing. For (3), please refer to https://www.tensorflow.org/tutorials/customization/performance#python_or_tensor_args and https://www.tensorflow.org/api_docs/python/tf/function for  more details.\n",
      "y_pred =  [[0.000 0.000 1.000]]\n",
      "y_pred number =  2\n"
     ]
    }
   ],
   "source": [
    "if __name__ == '__main__' :\n",
    "    model = load_model('model-19')\n",
    "    X_test , y_test = x,y\n",
    "    predict_image_sample(model,X_test, y_test)"
   ]
  },
  {
   "cell_type": "markdown",
   "metadata": {},
   "source": [
    "---"
   ]
  },
  {
   "cell_type": "code",
   "execution_count": 42,
   "metadata": {},
   "outputs": [
    {
     "name": "stdout",
     "output_type": "stream",
     "text": [
      "-- Evaluate -- num =  4\n",
      "accuracy: 9.38%\n",
      "-- Evaluate -- num =  5\n",
      "accuracy: 37.50%\n",
      "-- Evaluate -- num =  6\n",
      "accuracy: 33.13%\n",
      "-- Evaluate -- num =  7\n",
      "accuracy: 44.37%\n",
      "-- Evaluate -- num =  8\n",
      "accuracy: 57.50%\n",
      "-- Evaluate -- num =  9\n",
      "accuracy: 69.38%\n",
      "-- Evaluate -- num =  10\n",
      "accuracy: 23.75%\n",
      "-- Evaluate -- num =  11\n",
      "accuracy: 45.63%\n",
      "-- Evaluate -- num =  12\n",
      "accuracy: 24.38%\n",
      "-- Evaluate -- num =  13\n",
      "accuracy: 34.38%\n",
      "-- Evaluate -- num =  14\n",
      "accuracy: 63.13%\n"
     ]
    },
    {
     "ename": "OSError",
     "evalue": "SavedModel file does not exist at: model-15/{saved_model.pbtxt|saved_model.pb}",
     "output_type": "error",
     "traceback": [
      "\u001b[1;31m---------------------------------------------------------------------------\u001b[0m",
      "\u001b[1;31mOSError\u001b[0m                                   Traceback (most recent call last)",
      "\u001b[1;32m<ipython-input-42-2e5cba3adc32>\u001b[0m in \u001b[0;36m<module>\u001b[1;34m\u001b[0m\n\u001b[0;32m      2\u001b[0m \u001b[1;33m\u001b[0m\u001b[0m\n\u001b[0;32m      3\u001b[0m \u001b[1;32mfor\u001b[0m \u001b[0mi\u001b[0m \u001b[1;32min\u001b[0m \u001b[0mrange\u001b[0m\u001b[1;33m(\u001b[0m\u001b[1;36m4\u001b[0m\u001b[1;33m,\u001b[0m\u001b[1;36m22\u001b[0m\u001b[1;33m)\u001b[0m\u001b[1;33m:\u001b[0m\u001b[1;33m\u001b[0m\u001b[1;33m\u001b[0m\u001b[0m\n\u001b[1;32m----> 4\u001b[1;33m     \u001b[0mmodel\u001b[0m \u001b[1;33m=\u001b[0m \u001b[0mload_model\u001b[0m\u001b[1;33m(\u001b[0m\u001b[1;34m'model-'\u001b[0m\u001b[1;33m+\u001b[0m\u001b[0mstr\u001b[0m\u001b[1;33m(\u001b[0m\u001b[0mi\u001b[0m\u001b[1;33m)\u001b[0m\u001b[1;33m)\u001b[0m\u001b[1;33m\u001b[0m\u001b[1;33m\u001b[0m\u001b[0m\n\u001b[0m\u001b[0;32m      5\u001b[0m     \u001b[0mprint\u001b[0m\u001b[1;33m(\u001b[0m\u001b[1;34m\"-- Evaluate --\"\u001b[0m\u001b[1;33m,\u001b[0m\u001b[1;34m'num = '\u001b[0m\u001b[1;33m,\u001b[0m\u001b[0mi\u001b[0m\u001b[1;33m)\u001b[0m\u001b[1;33m\u001b[0m\u001b[1;33m\u001b[0m\u001b[0m\n\u001b[0;32m      6\u001b[0m     \u001b[0mscores\u001b[0m \u001b[1;33m=\u001b[0m \u001b[0mmodel\u001b[0m\u001b[1;33m.\u001b[0m\u001b[0mevaluate_generator\u001b[0m\u001b[1;33m(\u001b[0m\u001b[0mtest_data\u001b[0m\u001b[1;33m,\u001b[0m \u001b[0msteps\u001b[0m\u001b[1;33m=\u001b[0m\u001b[1;36m5\u001b[0m\u001b[1;33m)\u001b[0m\u001b[1;33m\u001b[0m\u001b[1;33m\u001b[0m\u001b[0m\n",
      "\u001b[1;32mC:\\ProgramData\\Anaconda3\\lib\\site-packages\\tensorflow\\python\\keras\\saving\\save.py\u001b[0m in \u001b[0;36mload_model\u001b[1;34m(filepath, custom_objects, compile, options)\u001b[0m\n\u001b[0;32m    184\u001b[0m     \u001b[0mfilepath\u001b[0m \u001b[1;33m=\u001b[0m \u001b[0mpath_to_string\u001b[0m\u001b[1;33m(\u001b[0m\u001b[0mfilepath\u001b[0m\u001b[1;33m)\u001b[0m\u001b[1;33m\u001b[0m\u001b[1;33m\u001b[0m\u001b[0m\n\u001b[0;32m    185\u001b[0m     \u001b[1;32mif\u001b[0m \u001b[0misinstance\u001b[0m\u001b[1;33m(\u001b[0m\u001b[0mfilepath\u001b[0m\u001b[1;33m,\u001b[0m \u001b[0msix\u001b[0m\u001b[1;33m.\u001b[0m\u001b[0mstring_types\u001b[0m\u001b[1;33m)\u001b[0m\u001b[1;33m:\u001b[0m\u001b[1;33m\u001b[0m\u001b[1;33m\u001b[0m\u001b[0m\n\u001b[1;32m--> 186\u001b[1;33m       \u001b[0mloader_impl\u001b[0m\u001b[1;33m.\u001b[0m\u001b[0mparse_saved_model\u001b[0m\u001b[1;33m(\u001b[0m\u001b[0mfilepath\u001b[0m\u001b[1;33m)\u001b[0m\u001b[1;33m\u001b[0m\u001b[1;33m\u001b[0m\u001b[0m\n\u001b[0m\u001b[0;32m    187\u001b[0m       \u001b[1;32mreturn\u001b[0m \u001b[0msaved_model_load\u001b[0m\u001b[1;33m.\u001b[0m\u001b[0mload\u001b[0m\u001b[1;33m(\u001b[0m\u001b[0mfilepath\u001b[0m\u001b[1;33m,\u001b[0m \u001b[0mcompile\u001b[0m\u001b[1;33m,\u001b[0m \u001b[0moptions\u001b[0m\u001b[1;33m)\u001b[0m\u001b[1;33m\u001b[0m\u001b[1;33m\u001b[0m\u001b[0m\n\u001b[0;32m    188\u001b[0m \u001b[1;33m\u001b[0m\u001b[0m\n",
      "\u001b[1;32mC:\\ProgramData\\Anaconda3\\lib\\site-packages\\tensorflow\\python\\saved_model\\loader_impl.py\u001b[0m in \u001b[0;36mparse_saved_model\u001b[1;34m(export_dir)\u001b[0m\n\u001b[0;32m    111\u001b[0m                   (export_dir,\n\u001b[0;32m    112\u001b[0m                    \u001b[0mconstants\u001b[0m\u001b[1;33m.\u001b[0m\u001b[0mSAVED_MODEL_FILENAME_PBTXT\u001b[0m\u001b[1;33m,\u001b[0m\u001b[1;33m\u001b[0m\u001b[1;33m\u001b[0m\u001b[0m\n\u001b[1;32m--> 113\u001b[1;33m                    constants.SAVED_MODEL_FILENAME_PB))\n\u001b[0m\u001b[0;32m    114\u001b[0m \u001b[1;33m\u001b[0m\u001b[0m\n\u001b[0;32m    115\u001b[0m \u001b[1;33m\u001b[0m\u001b[0m\n",
      "\u001b[1;31mOSError\u001b[0m: SavedModel file does not exist at: model-15/{saved_model.pbtxt|saved_model.pb}"
     ]
    }
   ],
   "source": [
    "# 5. 모델 평가하기\n",
    "\n",
    "for i in range(4,15):\n",
    "    model = load_model('model-'+str(i))\n",
    "    print(\"-- Evaluate --\",'num = ',i)\n",
    "    scores = model.evaluate_generator(test_data, steps=5)\n",
    "    print(\"%s: %.2f%%\" %(model.metrics_names[1], scores[1]*100))\n"
   ]
  },
  {
   "cell_type": "code",
   "execution_count": 44,
   "metadata": {},
   "outputs": [
    {
     "name": "stdout",
     "output_type": "stream",
     "text": [
      "-- Evaluate -- num =  16\n",
      "accuracy: 33.75%\n",
      "-- Evaluate -- num =  17\n",
      "accuracy: 23.13%\n",
      "-- Evaluate -- num =  18\n",
      "accuracy: 56.88%\n",
      "-- Evaluate -- num =  19\n",
      "accuracy: 71.88%\n",
      "-- Evaluate -- num =  20\n",
      "accuracy: 41.25%\n",
      "-- Evaluate -- num =  21\n",
      "accuracy: 38.75%\n"
     ]
    }
   ],
   "source": [
    "\n",
    "for i in range(16,22):\n",
    "    model = load_model('model-'+str(i))\n",
    "    print(\"-- Evaluate --\",'num = ',i)\n",
    "    scores = model.evaluate_generator(test_data, steps=5)\n",
    "    print(\"%s: %.2f%%\" %(model.metrics_names[1], scores[1]*100))"
   ]
  },
  {
   "cell_type": "code",
   "execution_count": 45,
   "metadata": {},
   "outputs": [
    {
     "name": "stdout",
     "output_type": "stream",
     "text": [
      "-- Evaluate -- num =16-  2\n",
      "accuracy: 29.37%\n",
      "-- Evaluate -- num =16-  3\n",
      "accuracy: 25.00%\n",
      "-- Evaluate -- num =16-  4\n",
      "accuracy: 43.13%\n",
      "-- Evaluate -- num =16-  5\n",
      "accuracy: 37.50%\n"
     ]
    }
   ],
   "source": [
    "\n",
    "for i in range(2,6):\n",
    "    model = load_model('model-16-'+str(i))\n",
    "    print(\"-- Evaluate --\",'num =16- ',i)\n",
    "    scores = model.evaluate_generator(test_data, steps=5)\n",
    "    print(\"%s: %.2f%%\" %(model.metrics_names[1], scores[1]*100))"
   ]
  },
  {
   "cell_type": "code",
   "execution_count": 61,
   "metadata": {},
   "outputs": [
    {
     "name": "stdout",
     "output_type": "stream",
     "text": [
      "-- Predict --\n"
     ]
    },
    {
     "ename": "IndexError",
     "evalue": "list index out of range",
     "output_type": "error",
     "traceback": [
      "\u001b[1;31m---------------------------------------------------------------------------\u001b[0m",
      "\u001b[1;31mIndexError\u001b[0m                                Traceback (most recent call last)",
      "\u001b[1;32m<ipython-input-61-27bc6feaad61>\u001b[0m in \u001b[0;36m<module>\u001b[1;34m\u001b[0m\n\u001b[0;32m      4\u001b[0m \u001b[1;32mfor\u001b[0m \u001b[0mi\u001b[0m \u001b[1;32min\u001b[0m \u001b[0mrange\u001b[0m\u001b[1;33m(\u001b[0m\u001b[1;36m1\u001b[0m\u001b[1;33m,\u001b[0m\u001b[1;36m9\u001b[0m\u001b[1;33m)\u001b[0m\u001b[1;33m:\u001b[0m\u001b[1;33m\u001b[0m\u001b[1;33m\u001b[0m\u001b[0m\n\u001b[0;32m      5\u001b[0m     \u001b[0mtest_data\u001b[0m \u001b[1;33m=\u001b[0m \u001b[1;34m'./images2/test/exterior/exterior8011.jpg'\u001b[0m\u001b[1;33m\u001b[0m\u001b[1;33m\u001b[0m\u001b[0m\n\u001b[1;32m----> 6\u001b[1;33m     \u001b[0moutput\u001b[0m \u001b[1;33m=\u001b[0m \u001b[0mmodel\u001b[0m\u001b[1;33m.\u001b[0m\u001b[0mpredict\u001b[0m\u001b[1;33m(\u001b[0m\u001b[0mtest_data\u001b[0m\u001b[1;33m)\u001b[0m\u001b[1;33m\u001b[0m\u001b[1;33m\u001b[0m\u001b[0m\n\u001b[0m\u001b[0;32m      7\u001b[0m     \u001b[0mprint\u001b[0m\u001b[1;33m(\u001b[0m\u001b[0moutput\u001b[0m\u001b[1;33m)\u001b[0m\u001b[1;33m\u001b[0m\u001b[1;33m\u001b[0m\u001b[0m\n\u001b[0;32m      8\u001b[0m \u001b[1;31m#     output = model.predict_generator(test_data)\u001b[0m\u001b[1;33m\u001b[0m\u001b[1;33m\u001b[0m\u001b[1;33m\u001b[0m\u001b[0m\n",
      "\u001b[1;32mC:\\ProgramData\\Anaconda3\\lib\\site-packages\\tensorflow\\python\\keras\\engine\\training.py\u001b[0m in \u001b[0;36m_method_wrapper\u001b[1;34m(self, *args, **kwargs)\u001b[0m\n\u001b[0;32m    128\u001b[0m       raise ValueError('{} is not supported in multi-worker mode.'.format(\n\u001b[0;32m    129\u001b[0m           method.__name__))\n\u001b[1;32m--> 130\u001b[1;33m     \u001b[1;32mreturn\u001b[0m \u001b[0mmethod\u001b[0m\u001b[1;33m(\u001b[0m\u001b[0mself\u001b[0m\u001b[1;33m,\u001b[0m \u001b[1;33m*\u001b[0m\u001b[0margs\u001b[0m\u001b[1;33m,\u001b[0m \u001b[1;33m**\u001b[0m\u001b[0mkwargs\u001b[0m\u001b[1;33m)\u001b[0m\u001b[1;33m\u001b[0m\u001b[1;33m\u001b[0m\u001b[0m\n\u001b[0m\u001b[0;32m    131\u001b[0m \u001b[1;33m\u001b[0m\u001b[0m\n\u001b[0;32m    132\u001b[0m   return tf_decorator.make_decorator(\n",
      "\u001b[1;32mC:\\ProgramData\\Anaconda3\\lib\\site-packages\\tensorflow\\python\\keras\\engine\\training.py\u001b[0m in \u001b[0;36mpredict\u001b[1;34m(self, x, batch_size, verbose, steps, callbacks, max_queue_size, workers, use_multiprocessing)\u001b[0m\n\u001b[0;32m   1577\u001b[0m           \u001b[0muse_multiprocessing\u001b[0m\u001b[1;33m=\u001b[0m\u001b[0muse_multiprocessing\u001b[0m\u001b[1;33m,\u001b[0m\u001b[1;33m\u001b[0m\u001b[1;33m\u001b[0m\u001b[0m\n\u001b[0;32m   1578\u001b[0m           \u001b[0mmodel\u001b[0m\u001b[1;33m=\u001b[0m\u001b[0mself\u001b[0m\u001b[1;33m,\u001b[0m\u001b[1;33m\u001b[0m\u001b[1;33m\u001b[0m\u001b[0m\n\u001b[1;32m-> 1579\u001b[1;33m           steps_per_execution=self._steps_per_execution)\n\u001b[0m\u001b[0;32m   1580\u001b[0m \u001b[1;33m\u001b[0m\u001b[0m\n\u001b[0;32m   1581\u001b[0m       \u001b[1;31m# Container that configures and calls `tf.keras.Callback`s.\u001b[0m\u001b[1;33m\u001b[0m\u001b[1;33m\u001b[0m\u001b[1;33m\u001b[0m\u001b[0m\n",
      "\u001b[1;32mC:\\ProgramData\\Anaconda3\\lib\\site-packages\\tensorflow\\python\\keras\\engine\\data_adapter.py\u001b[0m in \u001b[0;36m__init__\u001b[1;34m(self, x, y, sample_weight, batch_size, steps_per_epoch, initial_epoch, epochs, shuffle, class_weight, max_queue_size, workers, use_multiprocessing, model, steps_per_execution)\u001b[0m\n\u001b[0;32m   1115\u001b[0m         \u001b[0muse_multiprocessing\u001b[0m\u001b[1;33m=\u001b[0m\u001b[0muse_multiprocessing\u001b[0m\u001b[1;33m,\u001b[0m\u001b[1;33m\u001b[0m\u001b[1;33m\u001b[0m\u001b[0m\n\u001b[0;32m   1116\u001b[0m         \u001b[0mdistribution_strategy\u001b[0m\u001b[1;33m=\u001b[0m\u001b[0mds_context\u001b[0m\u001b[1;33m.\u001b[0m\u001b[0mget_strategy\u001b[0m\u001b[1;33m(\u001b[0m\u001b[1;33m)\u001b[0m\u001b[1;33m,\u001b[0m\u001b[1;33m\u001b[0m\u001b[1;33m\u001b[0m\u001b[0m\n\u001b[1;32m-> 1117\u001b[1;33m         model=model)\n\u001b[0m\u001b[0;32m   1118\u001b[0m \u001b[1;33m\u001b[0m\u001b[0m\n\u001b[0;32m   1119\u001b[0m     \u001b[0mstrategy\u001b[0m \u001b[1;33m=\u001b[0m \u001b[0mds_context\u001b[0m\u001b[1;33m.\u001b[0m\u001b[0mget_strategy\u001b[0m\u001b[1;33m(\u001b[0m\u001b[1;33m)\u001b[0m\u001b[1;33m\u001b[0m\u001b[1;33m\u001b[0m\u001b[0m\n",
      "\u001b[1;32mC:\\ProgramData\\Anaconda3\\lib\\site-packages\\tensorflow\\python\\keras\\engine\\data_adapter.py\u001b[0m in \u001b[0;36m__init__\u001b[1;34m(self, x, y, sample_weights, sample_weight_modes, batch_size, shuffle, **kwargs)\u001b[0m\n\u001b[0;32m    655\u001b[0m         \u001b[0mbatch_size\u001b[0m\u001b[1;33m=\u001b[0m\u001b[0mbatch_size\u001b[0m\u001b[1;33m,\u001b[0m\u001b[1;33m\u001b[0m\u001b[1;33m\u001b[0m\u001b[0m\n\u001b[0;32m    656\u001b[0m         \u001b[0mshuffle\u001b[0m\u001b[1;33m=\u001b[0m\u001b[0mshuffle\u001b[0m\u001b[1;33m,\u001b[0m\u001b[1;33m\u001b[0m\u001b[1;33m\u001b[0m\u001b[0m\n\u001b[1;32m--> 657\u001b[1;33m         **kwargs)\n\u001b[0m\u001b[0;32m    658\u001b[0m \u001b[1;33m\u001b[0m\u001b[0m\n\u001b[0;32m    659\u001b[0m   \u001b[1;32mdef\u001b[0m \u001b[0mget_dataset\u001b[0m\u001b[1;33m(\u001b[0m\u001b[0mself\u001b[0m\u001b[1;33m)\u001b[0m\u001b[1;33m:\u001b[0m\u001b[1;33m\u001b[0m\u001b[1;33m\u001b[0m\u001b[0m\n",
      "\u001b[1;32mC:\\ProgramData\\Anaconda3\\lib\\site-packages\\tensorflow\\python\\keras\\engine\\data_adapter.py\u001b[0m in \u001b[0;36m__init__\u001b[1;34m(self, x, y, sample_weights, sample_weight_modes, batch_size, epochs, steps, shuffle, **kwargs)\u001b[0m\n\u001b[0;32m    273\u001b[0m     \u001b[0minputs\u001b[0m \u001b[1;33m=\u001b[0m \u001b[0mpack_x_y_sample_weight\u001b[0m\u001b[1;33m(\u001b[0m\u001b[0mx\u001b[0m\u001b[1;33m,\u001b[0m \u001b[0my\u001b[0m\u001b[1;33m,\u001b[0m \u001b[0msample_weights\u001b[0m\u001b[1;33m)\u001b[0m\u001b[1;33m\u001b[0m\u001b[1;33m\u001b[0m\u001b[0m\n\u001b[0;32m    274\u001b[0m \u001b[1;33m\u001b[0m\u001b[0m\n\u001b[1;32m--> 275\u001b[1;33m     \u001b[0mnum_samples\u001b[0m \u001b[1;33m=\u001b[0m \u001b[0mset\u001b[0m\u001b[1;33m(\u001b[0m\u001b[0mint\u001b[0m\u001b[1;33m(\u001b[0m\u001b[0mi\u001b[0m\u001b[1;33m.\u001b[0m\u001b[0mshape\u001b[0m\u001b[1;33m[\u001b[0m\u001b[1;36m0\u001b[0m\u001b[1;33m]\u001b[0m\u001b[1;33m)\u001b[0m \u001b[1;32mfor\u001b[0m \u001b[0mi\u001b[0m \u001b[1;32min\u001b[0m \u001b[0mnest\u001b[0m\u001b[1;33m.\u001b[0m\u001b[0mflatten\u001b[0m\u001b[1;33m(\u001b[0m\u001b[0minputs\u001b[0m\u001b[1;33m)\u001b[0m\u001b[1;33m)\u001b[0m\u001b[1;33m\u001b[0m\u001b[1;33m\u001b[0m\u001b[0m\n\u001b[0m\u001b[0;32m    276\u001b[0m     \u001b[1;32mif\u001b[0m \u001b[0mlen\u001b[0m\u001b[1;33m(\u001b[0m\u001b[0mnum_samples\u001b[0m\u001b[1;33m)\u001b[0m \u001b[1;33m>\u001b[0m \u001b[1;36m1\u001b[0m\u001b[1;33m:\u001b[0m\u001b[1;33m\u001b[0m\u001b[1;33m\u001b[0m\u001b[0m\n\u001b[0;32m    277\u001b[0m       \u001b[0mmsg\u001b[0m \u001b[1;33m=\u001b[0m \u001b[1;34m\"Data cardinality is ambiguous:\\n\"\u001b[0m\u001b[1;33m\u001b[0m\u001b[1;33m\u001b[0m\u001b[0m\n",
      "\u001b[1;32mC:\\ProgramData\\Anaconda3\\lib\\site-packages\\tensorflow\\python\\keras\\engine\\data_adapter.py\u001b[0m in \u001b[0;36m<genexpr>\u001b[1;34m(.0)\u001b[0m\n\u001b[0;32m    273\u001b[0m     \u001b[0minputs\u001b[0m \u001b[1;33m=\u001b[0m \u001b[0mpack_x_y_sample_weight\u001b[0m\u001b[1;33m(\u001b[0m\u001b[0mx\u001b[0m\u001b[1;33m,\u001b[0m \u001b[0my\u001b[0m\u001b[1;33m,\u001b[0m \u001b[0msample_weights\u001b[0m\u001b[1;33m)\u001b[0m\u001b[1;33m\u001b[0m\u001b[1;33m\u001b[0m\u001b[0m\n\u001b[0;32m    274\u001b[0m \u001b[1;33m\u001b[0m\u001b[0m\n\u001b[1;32m--> 275\u001b[1;33m     \u001b[0mnum_samples\u001b[0m \u001b[1;33m=\u001b[0m \u001b[0mset\u001b[0m\u001b[1;33m(\u001b[0m\u001b[0mint\u001b[0m\u001b[1;33m(\u001b[0m\u001b[0mi\u001b[0m\u001b[1;33m.\u001b[0m\u001b[0mshape\u001b[0m\u001b[1;33m[\u001b[0m\u001b[1;36m0\u001b[0m\u001b[1;33m]\u001b[0m\u001b[1;33m)\u001b[0m \u001b[1;32mfor\u001b[0m \u001b[0mi\u001b[0m \u001b[1;32min\u001b[0m \u001b[0mnest\u001b[0m\u001b[1;33m.\u001b[0m\u001b[0mflatten\u001b[0m\u001b[1;33m(\u001b[0m\u001b[0minputs\u001b[0m\u001b[1;33m)\u001b[0m\u001b[1;33m)\u001b[0m\u001b[1;33m\u001b[0m\u001b[1;33m\u001b[0m\u001b[0m\n\u001b[0m\u001b[0;32m    276\u001b[0m     \u001b[1;32mif\u001b[0m \u001b[0mlen\u001b[0m\u001b[1;33m(\u001b[0m\u001b[0mnum_samples\u001b[0m\u001b[1;33m)\u001b[0m \u001b[1;33m>\u001b[0m \u001b[1;36m1\u001b[0m\u001b[1;33m:\u001b[0m\u001b[1;33m\u001b[0m\u001b[1;33m\u001b[0m\u001b[0m\n\u001b[0;32m    277\u001b[0m       \u001b[0mmsg\u001b[0m \u001b[1;33m=\u001b[0m \u001b[1;34m\"Data cardinality is ambiguous:\\n\"\u001b[0m\u001b[1;33m\u001b[0m\u001b[1;33m\u001b[0m\u001b[0m\n",
      "\u001b[1;32mC:\\ProgramData\\Anaconda3\\lib\\site-packages\\tensorflow\\python\\framework\\tensor_shape.py\u001b[0m in \u001b[0;36m__getitem__\u001b[1;34m(self, key)\u001b[0m\n\u001b[0;32m    885\u001b[0m       \u001b[1;32melse\u001b[0m\u001b[1;33m:\u001b[0m\u001b[1;33m\u001b[0m\u001b[1;33m\u001b[0m\u001b[0m\n\u001b[0;32m    886\u001b[0m         \u001b[1;32mif\u001b[0m \u001b[0mself\u001b[0m\u001b[1;33m.\u001b[0m\u001b[0m_v2_behavior\u001b[0m\u001b[1;33m:\u001b[0m\u001b[1;33m\u001b[0m\u001b[1;33m\u001b[0m\u001b[0m\n\u001b[1;32m--> 887\u001b[1;33m           \u001b[1;32mreturn\u001b[0m \u001b[0mself\u001b[0m\u001b[1;33m.\u001b[0m\u001b[0m_dims\u001b[0m\u001b[1;33m[\u001b[0m\u001b[0mkey\u001b[0m\u001b[1;33m]\u001b[0m\u001b[1;33m.\u001b[0m\u001b[0mvalue\u001b[0m\u001b[1;33m\u001b[0m\u001b[1;33m\u001b[0m\u001b[0m\n\u001b[0m\u001b[0;32m    888\u001b[0m         \u001b[1;32melse\u001b[0m\u001b[1;33m:\u001b[0m\u001b[1;33m\u001b[0m\u001b[1;33m\u001b[0m\u001b[0m\n\u001b[0;32m    889\u001b[0m           \u001b[1;32mreturn\u001b[0m \u001b[0mself\u001b[0m\u001b[1;33m.\u001b[0m\u001b[0m_dims\u001b[0m\u001b[1;33m[\u001b[0m\u001b[0mkey\u001b[0m\u001b[1;33m]\u001b[0m\u001b[1;33m\u001b[0m\u001b[1;33m\u001b[0m\u001b[0m\n",
      "\u001b[1;31mIndexError\u001b[0m: list index out of range"
     ]
    }
   ],
   "source": [
    "model = load_model('model-9')\n",
    "# 6. 모델 사용하기\n",
    "print(\"-- Predict --\")\n",
    "for i in range(1,9):\n",
    "    test_data = './images2/test/exterior/exterior8011.jpg'\n",
    "    output = model.predict(test_data)\n",
    "    print(output)\n",
    "#     output = model.predict_generator(test_data)\n",
    "    np.set_printoptions(formatter={'float': lambda x: \"{0:0.2f}\".format(x)})\n",
    "    print(test_data.class_indices)\n"
   ]
  },
  {
   "cell_type": "code",
   "execution_count": 71,
   "metadata": {},
   "outputs": [
    {
     "name": "stdout",
     "output_type": "stream",
     "text": [
      "<class 'numpy.ndarray'> <class 'numpy.ndarray'> <class 'numpy.ndarray'> <class 'numpy.ndarray'>\n",
      "(28, 28)\n"
     ]
    }
   ],
   "source": [
    "from keras.datasets import mnist\n",
    "(X_train, y_train), (X_test, y_test) = mnist.load_data()\n",
    "print(type(X_train), type( y_train), type(X_test),type(y_test))\n",
    "\n",
    "X_train[32].reshape(28,28,1)\n",
    "print(X_train[32].shape)\n"
   ]
  },
  {
   "cell_type": "code",
   "execution_count": 74,
   "metadata": {},
   "outputs": [
    {
     "ename": "AttributeError",
     "evalue": "'tuple' object has no attribute 'shpae'",
     "output_type": "error",
     "traceback": [
      "\u001b[1;31m---------------------------------------------------------------------------\u001b[0m",
      "\u001b[1;31mAttributeError\u001b[0m                            Traceback (most recent call last)",
      "\u001b[1;32m<ipython-input-74-ce51d80e3f63>\u001b[0m in \u001b[0;36m<module>\u001b[1;34m\u001b[0m\n\u001b[0;32m      1\u001b[0m \u001b[0ma\u001b[0m \u001b[1;33m=\u001b[0m  \u001b[0mmnist\u001b[0m\u001b[1;33m.\u001b[0m\u001b[0mload_data\u001b[0m\u001b[1;33m(\u001b[0m\u001b[1;33m)\u001b[0m\u001b[1;33m\u001b[0m\u001b[1;33m\u001b[0m\u001b[0m\n\u001b[1;32m----> 2\u001b[1;33m \u001b[0mprint\u001b[0m\u001b[1;33m(\u001b[0m\u001b[0ma\u001b[0m\u001b[1;33m.\u001b[0m\u001b[0mshpae\u001b[0m\u001b[1;33m)\u001b[0m\u001b[1;33m\u001b[0m\u001b[1;33m\u001b[0m\u001b[0m\n\u001b[0m",
      "\u001b[1;31mAttributeError\u001b[0m: 'tuple' object has no attribute 'shpae'"
     ]
    }
   ],
   "source": [
    "a =  mnist.load_data()\n",
    "print(a.shpae)"
   ]
  }
 ],
 "metadata": {
  "kernelspec": {
   "display_name": "Python 3",
   "language": "python",
   "name": "python3"
  },
  "language_info": {
   "codemirror_mode": {
    "name": "ipython",
    "version": 3
   },
   "file_extension": ".py",
   "mimetype": "text/x-python",
   "name": "python",
   "nbconvert_exporter": "python",
   "pygments_lexer": "ipython3",
   "version": "3.7.6"
  }
 },
 "nbformat": 4,
 "nbformat_minor": 4
}
