{
 "cells": [
  {
   "cell_type": "markdown",
   "metadata": {},
   "source": [
    "Model X에서 실행했던 정규화 layer를 imageoperatio에서 사용한 거랑 성능 비교"
   ]
  },
  {
   "cell_type": "code",
   "execution_count": 13,
   "metadata": {},
   "outputs": [
    {
     "name": "stdout",
     "output_type": "stream",
     "text": [
      "Found 13930 images belonging to 3 classes.\n",
      "Found 3929 images belonging to 3 classes.\n"
     ]
    }
   ],
   "source": [
    "import numpy as np\n",
    "from keras.models import Sequential\n",
    "from keras.layers import Dense\n",
    "from keras.layers import Flatten,Dropout, experimental\n",
    "from keras.layers.convolutional import Conv2D\n",
    "from keras.layers.convolutional import MaxPooling2D\n",
    "from keras.preprocessing.image import ImageDataGenerator\n",
    "from tensorflow.keras.callbacks import ModelCheckpoint\n",
    "\n",
    "import pandas as pd \n",
    "import os\n",
    "import matplotlib.pyplot as plt\n",
    "import cv2\n",
    "from tensorflow.keras.layers import Input, Conv2D, MaxPooling2D, Dense, Flatten\n",
    "from keras.utils import to_categorical\n",
    "\n",
    "from keras.models import Sequential,load_model\n",
    "\n",
    "from sklearn.model_selection import train_test_split\n",
    "from sklearn.utils import shuffle\n",
    "np.random.seed(1)\n",
    "\n",
    "\n",
    "train_datagen = ImageDataGenerator(\n",
    "    featurewise_center=True,\n",
    "    featurewise_std_normalization=True,\n",
    "    validation_split = 0.2,\n",
    "    rotation_range=30,\n",
    "    width_shift_range=0.2,\n",
    "    height_shift_range=0.2)\n",
    "\n",
    "train_generator = train_datagen.flow_from_directory(\n",
    "        './image_15000/train',\n",
    "        target_size = (300,300),\n",
    "        batch_size=128,\n",
    "        #color_mode ='rgb',\n",
    "        classes = ['food','interior', 'exterior'],\n",
    "        shuffle =True,\n",
    "        seed = 42,\n",
    "        class_mode='categorical')\n",
    "\n",
    "test_datagen = ImageDataGenerator(rescale=1./255)\n",
    "\n",
    "test_generator = test_datagen.flow_from_directory(\n",
    "        './image_15000/test',\n",
    "        classes = ['food','interior', 'exterior'],\n",
    "        target_size=(300,300),\n",
    "        batch_size=32,\n",
    "#         color_mode ='rgb',\n",
    "        shuffle =True,\n",
    "        seed = 42,\n",
    "        class_mode='categorical')\n",
    "\n",
    "\n",
    "def plot_loss_curve(history):\n",
    "    \n",
    "    plt.figure(figsize = (5,3))\n",
    "    plt.plot(history['loss'])\n",
    "    plt.plot(history['val_loss'])\n",
    "\n",
    "    plt.title('model loss')\n",
    "    plt.xlabel('epoch')\n",
    "    plt.ylabel('loss')\n",
    "    plt.legend(['train','test'], loc = 'upper right')\n",
    "    plt.show\n",
    "\n",
    "    \n",
    "def plot_accuracy_curve(history):\n",
    "\n",
    "    plt.figure(figsize = (5,3))\n",
    "    plt.plot(history['acc'])\n",
    "    plt.plot(history['val_acc'])\n",
    "\n",
    "    plt.title('model accuracy')\n",
    "    plt.xlabel('epoch')\n",
    "    plt.ylabel('accuracy')\n",
    "    plt.legend(['train','test'], loc = 'upper right')\n",
    "    plt.show"
   ]
  },
  {
   "cell_type": "markdown",
   "metadata": {},
   "source": [
    "정규화 O"
   ]
  },
  {
   "cell_type": "code",
   "execution_count": 18,
   "metadata": {
    "scrolled": true
   },
   "outputs": [
    {
     "name": "stdout",
     "output_type": "stream",
     "text": [
      "Model: \"sequential_2\"\n",
      "_________________________________________________________________\n",
      "Layer (type)                 Output Shape              Param #   \n",
      "=================================================================\n",
      "rescaling (Rescaling)        (None, 300, 300, 3)       0         \n",
      "_________________________________________________________________\n",
      "Conv_layer1 (Conv2D)         (None, 298, 298, 32)      896       \n",
      "_________________________________________________________________\n",
      "Pooling_layer2 (MaxPooling2D (None, 149, 149, 32)      0         \n",
      "_________________________________________________________________\n",
      "Conv_layer3 (Conv2D)         (None, 147, 147, 32)      9248      \n",
      "_________________________________________________________________\n",
      "Pooling_layer4 (MaxPooling2D (None, 73, 73, 32)        0         \n",
      "_________________________________________________________________\n",
      "Conv_layer5 (Conv2D)         (None, 71, 71, 32)        9248      \n",
      "_________________________________________________________________\n",
      "Pooling_layer6 (MaxPooling2D (None, 35, 35, 32)        0         \n",
      "_________________________________________________________________\n",
      "dropout_2 (Dropout)          (None, 35, 35, 32)        0         \n",
      "_________________________________________________________________\n",
      "Conv_layer7 (Conv2D)         (None, 33, 33, 32)        9248      \n",
      "_________________________________________________________________\n",
      "Conv_layer8 (Conv2D)         (None, 31, 31, 32)        9248      \n",
      "_________________________________________________________________\n",
      "Pooling_layer9 (MaxPooling2D (None, 15, 15, 32)        0         \n",
      "_________________________________________________________________\n",
      "flatten_2 (Flatten)          (None, 7200)              0         \n",
      "_________________________________________________________________\n",
      "FC_layer10 (Dense)           (None, 10)                72010     \n",
      "_________________________________________________________________\n",
      "output_layer (Dense)         (None, 3)                 33        \n",
      "=================================================================\n",
      "Total params: 109,931\n",
      "Trainable params: 109,931\n",
      "Non-trainable params: 0\n",
      "_________________________________________________________________\n",
      "Epoch 1/5\n",
      "3/3 [==============================] - 14s 5s/step - batch: 1.0000 - size: 128.0000 - loss: 1.1396 - acc: 0.4167 - val_loss: 1.0984 - val_acc: 0.3438\n",
      "Epoch 2/5\n",
      "3/3 [==============================] - 11s 4s/step - batch: 1.0000 - size: 128.0000 - loss: 1.0965 - acc: 0.3698 - val_loss: 1.0983 - val_acc: 0.3438\n",
      "Epoch 3/5\n",
      "3/3 [==============================] - 12s 4s/step - batch: 1.0000 - size: 128.0000 - loss: 1.0979 - acc: 0.3672 - val_loss: 1.0981 - val_acc: 0.3438\n",
      "Epoch 4/5\n",
      "3/3 [==============================] - 13s 4s/step - batch: 1.0000 - size: 128.0000 - loss: 1.0974 - acc: 0.3594 - val_loss: 1.0978 - val_acc: 0.3438\n",
      "Epoch 5/5\n",
      "3/3 [==============================] - 14s 5s/step - batch: 1.0000 - size: 128.0000 - loss: 1.0963 - acc: 0.3932 - val_loss: 1.0975 - val_acc: 0.3438\n"
     ]
    }
   ],
   "source": [
    "model = Sequential([\n",
    "Input(shape=(300,300,3), name='input_layer'),\n",
    "experimental.preprocessing.Rescaling(1./255),\n",
    "Conv2D(32,(3,3), activation='relu',name='Conv_layer1'),\n",
    "MaxPooling2D(pool_size=(2,2),name='Pooling_layer2'),\n",
    "Conv2D(32,(3,3), activation='relu',name='Conv_layer3'),\n",
    "MaxPooling2D(pool_size=(2,2),name='Pooling_layer4'),\n",
    "Conv2D(32,(3,3), activation='relu',name='Conv_layer5'),\n",
    "MaxPooling2D(pool_size=(2,2),name='Pooling_layer6'),\n",
    "Dropout(0.5),\n",
    "Conv2D(32,(3,3), activation='relu',name='Conv_layer7'),\n",
    "Conv2D(32,(3,3), activation='relu',name='Conv_layer8'),\n",
    "MaxPooling2D(pool_size=(2,2),name='Pooling_layer9'),\n",
    "Flatten(),\n",
    "Dense(10, activation='relu',name='FC_layer10'),\n",
    "Dense(3, activation='softmax', name='output_layer')\n",
    "])\n",
    "\n",
    "\n",
    "# 3. 모델 학습과정 설정 및 요약\n",
    "model.summary()\n",
    "model.compile(loss='categorical_crossentropy', optimizer='adam', metrics=['accuracy'])\n",
    "# 4. 모델 학습\n",
    "history1 = model.fit_generator(\n",
    "    train_generator,\n",
    "    steps_per_epoch=3,\n",
    "    epochs=5,\n",
    "    validation_data=test_generator,\n",
    "    validation_steps=3)"
   ]
  },
  {
   "cell_type": "code",
   "execution_count": 19,
   "metadata": {},
   "outputs": [
    {
     "name": "stdout",
     "output_type": "stream",
     "text": [
      "train accuracy =0.39322999119758606 , validation accuracy =0.34375\n",
      "train loss =1.09633 ,     validation loss =1.09748\n",
      "-- Evaluate --\n",
      "acc: 30.00%\n",
      "-- Predict --\n",
      "{'food': 0, 'interior': 1, 'exterior': 2}\n"
     ]
    },
    {
     "data": {
      "image/png": "[encoded data removed]",
      "text/plain": [
       "<Figure size 360x216 with 1 Axes>"
      ]
     },
     "metadata": {
      "needs_background": "light"
     },
     "output_type": "display_data"
    },
    {
     "data": {
      "image/png": "[encoded data removed]",
      "text/plain": [
       "<Figure size 360x216 with 1 Axes>"
      ]
     },
     "metadata": {
      "needs_background": "light"
     },
     "output_type": "display_data"
    }
   ],
   "source": [
    "plot_accuracy_curve(history1.history)\n",
    "\n",
    "print('train accuracy ={} , validation accuracy ={}' .format(\n",
    "                                                            round(history1.history['acc'][-1],5), \n",
    "                                                            round(history1.history['val_acc'][-1],5) ))\n",
    "plot_loss_curve(history1.history)\n",
    "print('train loss ={} ,     validation loss ={}' .format(\n",
    "                                                        round(history1.history['loss'][-1],5), \n",
    "                                                        round(history1.history['val_loss'][-1],5) ))\n",
    "\n",
    "print(\"-- Evaluate --\")\n",
    "scores = model.evaluate_generator(test_generator, steps=5)\n",
    "print(\"%s: %.2f%%\" %(model.metrics_names[1], scores[1]*100))\n",
    "\n",
    "print(\"-- Predict --\")\n",
    "output = model.predict_generator(test_generator, steps=5)\n",
    "np.set_printoptions(formatter={'float': lambda x: \"{0:0.3f}\".format(x)})\n",
    "print(test_generator.class_indices)\n",
    "#print(output)"
   ]
  },
  {
   "cell_type": "markdown",
   "metadata": {},
   "source": [
    "정규화 X"
   ]
  },
  {
   "cell_type": "code",
   "execution_count": 16,
   "metadata": {},
   "outputs": [
    {
     "name": "stdout",
     "output_type": "stream",
     "text": [
      "Model: \"sequential_1\"\n",
      "_________________________________________________________________\n",
      "Layer (type)                 Output Shape              Param #   \n",
      "=================================================================\n",
      "Conv_layer1 (Conv2D)         (None, 298, 298, 32)      896       \n",
      "_________________________________________________________________\n",
      "Pooling_layer2 (MaxPooling2D (None, 149, 149, 32)      0         \n",
      "_________________________________________________________________\n",
      "Conv_layer3 (Conv2D)         (None, 147, 147, 32)      9248      \n",
      "_________________________________________________________________\n",
      "Pooling_layer4 (MaxPooling2D (None, 73, 73, 32)        0         \n",
      "_________________________________________________________________\n",
      "Conv_layer5 (Conv2D)         (None, 71, 71, 32)        9248      \n",
      "_________________________________________________________________\n",
      "Pooling_layer6 (MaxPooling2D (None, 35, 35, 32)        0         \n",
      "_________________________________________________________________\n",
      "dropout_1 (Dropout)          (None, 35, 35, 32)        0         \n",
      "_________________________________________________________________\n",
      "Conv_layer7 (Conv2D)         (None, 33, 33, 32)        9248      \n",
      "_________________________________________________________________\n",
      "Conv_layer8 (Conv2D)         (None, 31, 31, 32)        9248      \n",
      "_________________________________________________________________\n",
      "Pooling_layer9 (MaxPooling2D (None, 15, 15, 32)        0         \n",
      "_________________________________________________________________\n",
      "flatten_1 (Flatten)          (None, 7200)              0         \n",
      "_________________________________________________________________\n",
      "FC_layer10 (Dense)           (None, 10)                72010     \n",
      "_________________________________________________________________\n",
      "output_layer (Dense)         (None, 3)                 33        \n",
      "=================================================================\n",
      "Total params: 109,931\n",
      "Trainable params: 109,931\n",
      "Non-trainable params: 0\n",
      "_________________________________________________________________\n",
      "Epoch 1/5\n"
     ]
    },
    {
     "name": "stderr",
     "output_type": "stream",
     "text": [
      "C:\\ProgramData\\Anaconda3\\lib\\site-packages\\keras_preprocessing\\image\\image_data_generator.py:720: UserWarning: This ImageDataGenerator specifies `featurewise_center`, but it hasn't been fit on any training data. Fit it first by calling `.fit(numpy_data)`.\n",
      "  warnings.warn('This ImageDataGenerator specifies '\n",
      "C:\\ProgramData\\Anaconda3\\lib\\site-packages\\keras_preprocessing\\image\\image_data_generator.py:728: UserWarning: This ImageDataGenerator specifies `featurewise_std_normalization`, but it hasn't been fit on any training data. Fit it first by calling `.fit(numpy_data)`.\n",
      "  warnings.warn('This ImageDataGenerator specifies '\n"
     ]
    },
    {
     "name": "stdout",
     "output_type": "stream",
     "text": [
      "3/3 [==============================] - 12s 4s/step - batch: 1.0000 - size: 128.0000 - loss: 9.1686 - acc: 0.3776 - val_loss: 1.0826 - val_acc: 0.3438\n",
      "Epoch 2/5\n",
      "3/3 [==============================] - 13s 4s/step - batch: 1.0000 - size: 128.0000 - loss: 10.4096 - acc: 0.3542 - val_loss: 1.0845 - val_acc: 0.3438\n",
      "Epoch 3/5\n",
      "3/3 [==============================] - 12s 4s/step - batch: 1.0000 - size: 128.0000 - loss: 9.3183 - acc: 0.4219 - val_loss: 1.0861 - val_acc: 0.3438\n",
      "Epoch 4/5\n",
      "3/3 [==============================] - 13s 4s/step - batch: 1.0000 - size: 128.0000 - loss: 10.2837 - acc: 0.3620 - val_loss: 1.0878 - val_acc: 0.3438\n",
      "Epoch 5/5\n",
      "3/3 [==============================] - 14s 5s/step - batch: 1.0000 - size: 128.0000 - loss: 9.8220 - acc: 0.3906 - val_loss: 1.0899 - val_acc: 0.3438\n"
     ]
    }
   ],
   "source": [
    "model = Sequential([\n",
    "Input(shape=(300,300,3), name='input_layer'),\n",
    "# experimental.preprocessing.Rescaling(1./255),\n",
    "Conv2D(32,(3,3), activation='relu',name='Conv_layer1'),\n",
    "MaxPooling2D(pool_size=(2,2),name='Pooling_layer2'),\n",
    "Conv2D(32,(3,3), activation='relu',name='Conv_layer3'),\n",
    "MaxPooling2D(pool_size=(2,2),name='Pooling_layer4'),\n",
    "Conv2D(32,(3,3), activation='relu',name='Conv_layer5'),\n",
    "MaxPooling2D(pool_size=(2,2),name='Pooling_layer6'),\n",
    "Dropout(0.5),\n",
    "Conv2D(32,(3,3), activation='relu',name='Conv_layer7'),\n",
    "Conv2D(32,(3,3), activation='relu',name='Conv_layer8'),\n",
    "MaxPooling2D(pool_size=(2,2),name='Pooling_layer9'),\n",
    "Flatten(),\n",
    "Dense(10, activation='relu',name='FC_layer10'),\n",
    "Dense(3, activation='softmax', name='output_layer')\n",
    "])\n",
    "\n",
    "\n",
    "# 3. 모델 학습과정 설정 및 요약\n",
    "model.summary()\n",
    "model.compile(loss='categorical_crossentropy', optimizer='adam', metrics=['accuracy'])\n",
    "# 4. 모델 학습\n",
    "history2= model.fit_generator(\n",
    "    train_generator,\n",
    "    steps_per_epoch=3,\n",
    "    epochs=5,\n",
    "    validation_data=test_generator,\n",
    "    validation_steps=3)"
   ]
  },
  {
   "cell_type": "code",
   "execution_count": 17,
   "metadata": {},
   "outputs": [
    {
     "name": "stdout",
     "output_type": "stream",
     "text": [
      "train accuracy =0.39061999320983887 , validation accuracy =0.34375\n",
      "train loss =9.82196 ,     validation loss =1.08989\n",
      "-- Evaluate --\n"
     ]
    },
    {
     "name": "stderr",
     "output_type": "stream",
     "text": [
      "C:\\ProgramData\\Anaconda3\\lib\\site-packages\\keras_preprocessing\\image\\image_data_generator.py:720: UserWarning: This ImageDataGenerator specifies `featurewise_center`, but it hasn't been fit on any training data. Fit it first by calling `.fit(numpy_data)`.\n",
      "  warnings.warn('This ImageDataGenerator specifies '\n",
      "C:\\ProgramData\\Anaconda3\\lib\\site-packages\\keras_preprocessing\\image\\image_data_generator.py:728: UserWarning: This ImageDataGenerator specifies `featurewise_std_normalization`, but it hasn't been fit on any training data. Fit it first by calling `.fit(numpy_data)`.\n",
      "  warnings.warn('This ImageDataGenerator specifies '\n",
      "C:\\ProgramData\\Anaconda3\\lib\\site-packages\\keras_preprocessing\\image\\image_data_generator.py:720: UserWarning: This ImageDataGenerator specifies `featurewise_center`, but it hasn't been fit on any training data. Fit it first by calling `.fit(numpy_data)`.\n",
      "  warnings.warn('This ImageDataGenerator specifies '\n",
      "C:\\ProgramData\\Anaconda3\\lib\\site-packages\\keras_preprocessing\\image\\image_data_generator.py:728: UserWarning: This ImageDataGenerator specifies `featurewise_std_normalization`, but it hasn't been fit on any training data. Fit it first by calling `.fit(numpy_data)`.\n",
      "  warnings.warn('This ImageDataGenerator specifies '\n"
     ]
    },
    {
     "name": "stdout",
     "output_type": "stream",
     "text": [
      "acc: 30.00%\n",
      "-- Predict --\n",
      "{'food': 0, 'interior': 1, 'exterior': 2}\n"
     ]
    },
    {
     "data": {
      "image/png": "[encoded data removed]",
      "text/plain": [
       "<Figure size 360x216 with 1 Axes>"
      ]
     },
     "metadata": {
      "needs_background": "light"
     },
     "output_type": "display_data"
    },
    {
     "data": {
      "image/png": "[encoded data removed]",
      "text/plain": [
       "<Figure size 360x216 with 1 Axes>"
      ]
     },
     "metadata": {
      "needs_background": "light"
     },
     "output_type": "display_data"
    }
   ],
   "source": [
    "plot_accuracy_curve(history2.history)\n",
    "\n",
    "print('train accuracy ={} , validation accuracy ={}' .format(\n",
    "                                                            round(history2.history['acc'][-1],5), \n",
    "                                                            round(history2.history['val_acc'][-1],5) ))\n",
    "plot_loss_curve(history2.history)\n",
    "print('train loss ={} ,     validation loss ={}' .format(\n",
    "                                                        round(history2.history['loss'][-1],5), \n",
    "                                                        round(history2.history['val_loss'][-1],5) ))\n",
    "\n",
    "\n",
    "print(\"-- Evaluate --\")\n",
    "scores = model.evaluate_generator(test_generator, steps=5)\n",
    "print(\"%s: %.2f%%\" %(model.metrics_names[1], scores[1]*100))\n",
    "\n",
    "print(\"-- Predict --\")\n",
    "output = model.predict_generator(test_generator, steps=5)\n",
    "np.set_printoptions(formatter={'float': lambda x: \"{0:0.3f}\".format(x)})\n",
    "print(test_generator.class_indices)\n",
    "#print(output)"
   ]
  }
 ],
 "metadata": {
  "kernelspec": {
   "display_name": "Python 3",
   "language": "python",
   "name": "python3"
  },
  "language_info": {
   "codemirror_mode": {
    "name": "ipython",
    "version": 3
   },
   "file_extension": ".py",
   "mimetype": "text/x-python",
   "name": "python",
   "nbconvert_exporter": "python",
   "pygments_lexer": "ipython3",
   "version": "3.7.6"
  }
 },
 "nbformat": 4,
 "nbformat_minor": 4
}
