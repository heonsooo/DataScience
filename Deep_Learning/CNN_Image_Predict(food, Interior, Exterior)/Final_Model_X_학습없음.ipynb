{
 "cells": [
  {
   "cell_type": "markdown",
   "metadata": {},
   "source": [
    "이건 진짜 마지막!"
   ]
  },
  {
   "cell_type": "code",
   "execution_count": 1,
   "metadata": {},
   "outputs": [
    {
     "name": "stdout",
     "output_type": "stream",
     "text": [
      "Found 36000 images belonging to 3 classes.\n",
      "Found 7200 images belonging to 3 classes.\n",
      "Found 9000 images belonging to 3 classes.\n"
     ]
    }
   ],
   "source": [
    "#에러 코드 핸들링\n",
    "import os\n",
    "import warnings\n",
    "\n",
    "import numpy as np\n",
    "import tensorflow as tf\n",
    "import matplotlib.pyplot as plt\n",
    "\n",
    "#디렉토리 -> numpy 변환\n",
    "import cv2\n",
    "\n",
    "# 이미지 -> 디렉토리 및 라벨링\n",
    "from keras.preprocessing.image import ImageDataGenerator\n",
    "from keras.utils import to_categorical\n",
    "\n",
    "#모델링\n",
    "from keras.models import Sequential,load_model\n",
    "from tensorflow.keras.layers import  Input, Conv2D, MaxPooling2D, Dense, Flatten, experimental, Dropout\n",
    "\n",
    "import pandas as pd \n",
    "\n",
    "\n",
    "\n",
    "\n",
    "os.environ['TF_CPP_MIN_LOG_LEVEL'] = '3' \n",
    "warnings.filterwarnings(action='ignore')\n",
    "\n",
    "\n",
    "\n",
    "# 데이터 증폭\n",
    "train_data_augmentation = ImageDataGenerator(\n",
    "    validation_split = 0.2,\n",
    "    rotation_range=10,\n",
    "    zoom_range = 0.3,\n",
    "    width_shift_range=0.2,\n",
    "    height_shift_range=0.2)\n",
    "\n",
    "#train 데이터 설정 \n",
    "train_data = train_data_augmentation.flow_from_directory(\n",
    "        './images2/train',\n",
    "        target_size = (300,300),\n",
    "        batch_size=150,\n",
    "        #color_mode ='rgb',\n",
    "        classes = ['food','interior', 'exterior'],\n",
    "        shuffle =True,\n",
    "        class_mode='categorical')\n",
    "\n",
    "\n",
    "# validation 데이터 설정\n",
    "validation_data = train_data_augmentation.flow_from_directory(\n",
    "        './images2/train',\n",
    "        target_size = (300,300),\n",
    "        batch_size=150,\n",
    "        classes = ['food','interior', 'exterior'],\n",
    "        shuffle =True,\n",
    "        class_mode='categorical',\n",
    "        subset='validation')\n",
    "\n",
    "#test 데이터 설정\n",
    "test_data = ImageDataGenerator().flow_from_directory(\n",
    "        './images2/test',\n",
    "        classes = ['food','interior', 'exterior'],\n",
    "        target_size=(300,300),\n",
    "        batch_size=100,\n",
    "        shuffle =True,\n",
    "        class_mode='categorical')"
   ]
  },
  {
   "cell_type": "code",
   "execution_count": null,
   "metadata": {},
   "outputs": [],
   "source": []
  },
  {
   "cell_type": "code",
   "execution_count": 2,
   "metadata": {},
   "outputs": [],
   "source": [
    "def plot_loss_curve(history):\n",
    "    plt.figure(figsize = (5,3))\n",
    "    plt.plot(history['loss'])\n",
    "    plt.plot(history['val_loss'])\n",
    "    plt.title('model loss')\n",
    "    plt.xlabel('epoch')\n",
    "    plt.ylabel('loss')\n",
    "    plt.legend(['train','test'], loc = 'upper right')\n",
    "    plt.show"
   ]
  },
  {
   "cell_type": "markdown",
   "metadata": {},
   "source": [
    "\n",
    "model = load_model('Model-19')\n",
    "\n",
    "# 5. 모델 평가하기\n",
    "\n",
    "print(\"-- Evaluate --\")\n",
    "scores = model.evaluate_generator(test_data, steps=5)\n",
    "print(\"%s: %.2f%%\" %(model.metrics_names[1], scores[1]*100))\n",
    "\n",
    "\n",
    "# 6. 모델 사용하기\n",
    "\n",
    "print(\"-- Predict --\")\n",
    "output = model.predict_generator(test_data, steps=5)\n",
    "np.set_printoptions(formatter={'float': lambda x: \"{0:0.3f}\".format(x)})\n",
    "print(test_data.class_indices)\n",
    "print(output)"
   ]
  },
  {
   "cell_type": "markdown",
   "metadata": {},
   "source": [
    "plot_loss_curve(history.history)\n",
    "\n",
    "print(history.history)\n",
    "print('train loss =', history.history['loss'][-1])\n",
    "print('validation loss =', history.history['val_loss'][-1])"
   ]
  },
  {
   "cell_type": "code",
   "execution_count": 3,
   "metadata": {},
   "outputs": [],
   "source": [
    "X,y = test_data.next()"
   ]
  },
  {
   "cell_type": "code",
   "execution_count": 4,
   "metadata": {},
   "outputs": [],
   "source": [
    "def print_class(Num):\n",
    "    class_of_Image = '음식' if Num == 0 else '실내' if Num==1 else '실외'\n",
    "    return class_of_Image\n"
   ]
  },
  {
   "cell_type": "code",
   "execution_count": 5,
   "metadata": {},
   "outputs": [],
   "source": [
    "\n",
    "def predict_image_sample_Noprint(model,X_test, y_test,test_id= -1 ):\n",
    "\n",
    "    if test_id <0 :\n",
    "\n",
    "        from random import randrange\n",
    "        test_sample_id = randrange(len(y))\n",
    "\n",
    "    else:\n",
    "        test_sample_id = test_id\n",
    "\n",
    "    test_image =X_test[test_sample_id]\n",
    "\n",
    "\n",
    "    #이미지로 만들기\n",
    "#    pixels = np.array(test_image,np.int32)\n",
    "#    plt.imshow(pixels)\n",
    "#     plt.show()\n",
    "    \n",
    "    test_image = test_image.reshape(1,300,300,3)\n",
    "    \n",
    "#     print(test_data.class_indices)\n",
    "    y_actual = y_test[test_sample_id]\n",
    "#     print( y_actual)\n",
    "    y_actual_num = np.argmax(y_actual)\n",
    "    actual_class = print_class(y_actual_num)\n",
    "#     print('실제 클래스 = ', actual_class)\n",
    "\n",
    "    \n",
    "    y_pred = model.predict(test_image)\n",
    "    #print(\"y_pred = \", y_pred)\n",
    "    y_pred_num = np.argmax(y_pred, axis = 1)[0]\n",
    "    predict_class = print_class(y_pred_num)\n",
    "#     print('예측 클래스 = ', predict_class)\n",
    "    if y_pred_num != y_actual_num:\n",
    "        #print(\"sample %d is wrong!\" %test_sample_id)\n",
    "        with open(\"wrong_samples.txt\", \"a\") as errfile:\n",
    "            pass\n",
    "    else:\n",
    "        pass\n",
    "        #print(\"sample %d is correct!\" %test_sample_id)\n",
    "\n",
    "    \n",
    "    return y_actual_num, y_pred_num , y_pred"
   ]
  },
  {
   "cell_type": "code",
   "execution_count": 6,
   "metadata": {},
   "outputs": [],
   "source": [
    "\n",
    "def predict_image_sample_print(model,X_test, y_test, Num = 1,test_id= -1 ):\n",
    "\n",
    "    if test_id <0 :\n",
    "\n",
    "        from random import randrange\n",
    "        test_sample_id = randrange(len(y))\n",
    "\n",
    "    else:\n",
    "        test_sample_id = test_id\n",
    "\n",
    "    test_image =X_test[test_sample_id]\n",
    "\n",
    "\n",
    "    #이미지로 만들기\n",
    "    pixels = np.array(test_image,np.int32)\n",
    "    plt.imshow(pixels)\n",
    "    plt.show()\n",
    "    \n",
    "    test_image = test_image.reshape(1,300,300,3)\n",
    "    \n",
    "    print(test_data.class_indices)\n",
    "    y_actual = y_test[test_sample_id]\n",
    "    print( y_actual)\n",
    "    y_actual_num = np.argmax(y_actual)\n",
    "    actual_class = print_class(y_actual_num)\n",
    "    print('실제 클래스 = ', actual_class)\n",
    "\n",
    "    \n",
    "    y_pred = model.predict(test_image)\n",
    "    print(\"y_pred = \", y_pred)\n",
    "    y_pred_num = np.argmax(y_pred, axis = 1)[0]\n",
    "    predict_class = print_class(y_pred_num)\n",
    "    print('예측 클래스 = ', predict_class)\n",
    "    \n",
    "    \n",
    "    if y_pred_num != y_actual_num:\n",
    "        print(\"sample %d is wrong!\" %test_sample_id)\n",
    "        with open(\"wrong_samples.txt\", \"a\") as errfile:\n",
    "            print(\"%d\"%test_sample_id, file=errfile)\n",
    "    else:\n",
    "        print(\"sample %d is correct!\" %test_sample_id)\n",
    "    \n",
    "    \n",
    "    \n",
    "    \n",
    "    return y_actual_num, y_pred_num"
   ]
  },
  {
   "cell_type": "code",
   "execution_count": 9,
   "metadata": {
    "scrolled": true
   },
   "outputs": [
    {
     "name": "stdout",
     "output_type": "stream",
     "text": [
      "Model-4,총횟수 = 100 , 맞춘횟수=13 , 정확도=13.0       [[1. 0. 0.]]\n",
      "Model-5,총횟수 = 100 , 맞춘횟수=40 , 정확도=40.0       [[0. 1. 0.]]\n",
      "Model-6,총횟수 = 100 , 맞춘횟수=29 , 정확도=28.999999999999996       [[6.5977375e-14 9.9889803e-01 1.1019910e-03]]\n",
      "Model-7,총횟수 = 100 , 맞춘횟수=34 , 정확도=34.0       [[0.0000000e+00 9.9970144e-01 2.9855303e-04]]\n",
      "Model-8,총횟수 = 100 , 맞춘횟수=60 , 정확도=60.0       [[0. 0. 1.]]\n",
      "Model-9,총횟수 = 100 , 맞춘횟수=71 , 정확도=71.0       [[0. 1. 0.]]\n",
      "Model-10,총횟수 = 100 , 맞춘횟수=28 , 정확도=28.000000000000004       [[0. 0. 1.]]\n",
      "Model-11,총횟수 = 100 , 맞춘횟수=35 , 정확도=35.0       [[1. 0. 0.]]\n",
      "Model-12,총횟수 = 100 , 맞춘횟수=27 , 정확도=27.0       [[0. 0. 1.]]\n",
      "Model-13,총횟수 = 100 , 맞춘횟수=31 , 정확도=31.0       [[0. 0. 1.]]\n",
      "Model-14,총횟수 = 100 , 맞춘횟수=57 , 정확도=56.99999999999999       [[0. 0. 1.]]\n"
     ]
    }
   ],
   "source": [
    "if __name__ == '__main__' :\n",
    "    for j in range(4,15):\n",
    "        model = load_model('model-'+str(j))\n",
    "        X_test , y_test = X,y\n",
    "        corr,count = 0,0\n",
    "\n",
    "        for i in range(len(y)):\n",
    "            count +=1\n",
    "            y_act, y_pre, y_pred= predict_image_sample_Noprint(model,X_test, y_test)\n",
    "            if y_act == y_pre :\n",
    "                corr +=1 \n",
    "            else:continue\n",
    "                \n",
    "        print('Model-{},총횟수 = {} , 맞춘횟수={} , 정확도={}      '.format(j,count,corr, (corr/count)*100 ) ,y_pred )\n"
   ]
  },
  {
   "cell_type": "code",
   "execution_count": 12,
   "metadata": {},
   "outputs": [
    {
     "name": "stdout",
     "output_type": "stream",
     "text": [
      "Model-2,총횟수 = 100 , 맞춘횟수=27 , 정확도=27.0       [[0.000000e+00 2.960595e-26 1.000000e+00]]\n",
      "Model-3,총횟수 = 100 , 맞춘횟수=34 , 정확도=34.0       [[0. 0. 1.]]\n",
      "Model-4,총횟수 = 100 , 맞춘횟수=38 , 정확도=38.0       [[0. 0. 1.]]\n",
      "Model-5,총횟수 = 100 , 맞춘횟수=45 , 정확도=45.0       [[1.6103559e-03 2.6529972e-13 9.9838972e-01]]\n"
     ]
    }
   ],
   "source": [
    "if __name__ == '__main__' :\n",
    "    for j in range(2,6):\n",
    "        model = load_model('model-16-'+str(j))\n",
    "        X_test , y_test = X,y\n",
    "        corr,count = 0,0\n",
    "\n",
    "        for i in range(len(y)):\n",
    "            count +=1\n",
    "            y_act, y_pre, y_pred= predict_image_sample_Noprint(model,X_test, y_test)\n",
    "            if y_act == y_pre :\n",
    "                corr +=1 \n",
    "            else:continue\n",
    "                \n",
    "        print('Model-{},총횟수 = {} , 맞춘횟수={} , 정확도={}      '.format(j,count,corr, (corr/count)*100 ) ,y_pred )\n"
   ]
  },
  {
   "cell_type": "code",
   "execution_count": 10,
   "metadata": {},
   "outputs": [
    {
     "name": "stdout",
     "output_type": "stream",
     "text": [
      "Model-16,총횟수 = 100 , 맞춘횟수=50 , 정확도=50.0       [[0. 0. 1.]]\n",
      "Model-17,총횟수 = 100 , 맞춘횟수=24 , 정확도=24.0       [[0.0000000e+00 4.1638892e-36 1.0000000e+00]]\n",
      "Model-18,총횟수 = 100 , 맞춘횟수=48 , 정확도=48.0       [[1.0000000e+00 2.9114954e-33 0.0000000e+00]]\n",
      "Model-19,총횟수 = 100 , 맞춘횟수=69 , 정확도=69.0       [[0.9975635  0.00243649 0.        ]]\n",
      "Model-20,총횟수 = 100 , 맞춘횟수=36 , 정확도=36.0       [[0.34350306 0.33154276 0.32495415]]\n",
      "Model-21,총횟수 = 100 , 맞춘횟수=42 , 정확도=42.0       [[0.3455544  0.3322728  0.32217276]]\n"
     ]
    }
   ],
   "source": [
    "if __name__ == '__main__' :\n",
    "    for j in range(16,22):\n",
    "        model = load_model('model-'+str(j))\n",
    "        X_test , y_test = X,y\n",
    "        corr,count = 0,0\n",
    "\n",
    "        for i in range(len(y)):\n",
    "            count +=1\n",
    "            y_act, y_pre, y_pred= predict_image_sample_Noprint(model,X_test, y_test)\n",
    "            if y_act == y_pre :\n",
    "                corr +=1 \n",
    "            else:continue\n",
    "                \n",
    "        print('Model-{},총횟수 = {} , 맞춘횟수={} , 정확도={}      '.format(j,count,corr, (corr/count)*100 ) ,y_pred )\n"
   ]
  },
  {
   "cell_type": "code",
   "execution_count": 13,
   "metadata": {},
   "outputs": [
    {
     "name": "stdout",
     "output_type": "stream",
     "text": [
      "Model-18-3,총횟수 = 100 , 맞춘횟수=42 , 정확도=42.0       [[3.3531350e-16 9.5407218e-01 4.5927856e-02]]\n",
      "Model-2018-2,총횟수 = 100 , 맞춘횟수=43 , 정확도=43.0       [[1. 0. 0.]]\n",
      "Model-2020,총횟수 = 100 , 맞춘횟수=19 , 정확도=19.0       [[0.33106902 0.33419204 0.33473903]]\n",
      "Model-2020-1215-11시,총횟수 = 100 , 맞춘횟수=26 , 정확도=26.0       [[0.3150088  0.34283704 0.34215415]]\n",
      "Model-2020-1215-12시,총횟수 = 100 , 맞춘횟수=27 , 정확도=27.0       [[6.2605098e-17 7.8941930e-06 9.9999213e-01]]\n",
      "Model-201814132,총횟수 = 100 , 맞춘횟수=40 , 정확도=40.0       [[0.86444366 0.0015804  0.13397591]]\n",
      "Model-X,총횟수 = 100 , 맞춘횟수=58 , 정확도=57.99999999999999       [[0.3190809  0.34213278 0.3387863 ]]\n",
      "Model-X2,총횟수 = 100 , 맞춘횟수=53 , 정확도=53.0       [[1. 0. 0.]]\n"
     ]
    }
   ],
   "source": [
    "if __name__ == '__main__' :\n",
    "    Listtt = ['18-3','2018-2','2020','2020-1215-11시','2020-1215-12시','201814132','X','X2']\n",
    "    for j in Listtt:\n",
    "        model = load_model('model-'+j)\n",
    "        X_test , y_test = X,y\n",
    "        corr,count = 0,0\n",
    "\n",
    "        for i in range(len(y)):\n",
    "            count +=1\n",
    "            y_act, y_pre, y_pred= predict_image_sample_Noprint(model,X_test, y_test)\n",
    "            if y_act == y_pre :\n",
    "                corr +=1 \n",
    "            else:continue\n",
    "                \n",
    "        print('Model-{},총횟수 = {} , 맞춘횟수={} , 정확도={}      '.format(j,count,corr, (corr/count)*100 ) ,y_pred )\n"
   ]
  }
 ],
 "metadata": {
  "kernelspec": {
   "display_name": "Python 3",
   "language": "python",
   "name": "python3"
  },
  "language_info": {
   "codemirror_mode": {
    "name": "ipython",
    "version": 3
   },
   "file_extension": ".py",
   "mimetype": "text/x-python",
   "name": "python",
   "nbconvert_exporter": "python",
   "pygments_lexer": "ipython3",
   "version": "3.7.6"
  }
 },
 "nbformat": 4,
 "nbformat_minor": 4
}
